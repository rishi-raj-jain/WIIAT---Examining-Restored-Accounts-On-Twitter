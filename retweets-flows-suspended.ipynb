{
 "cells": [
  {
   "cell_type": "code",
   "execution_count": null,
   "id": "metric-charlotte",
   "metadata": {},
   "outputs": [],
   "source": [
    "import threading\n",
    "import pickle as pkl\n",
    "import networkx as nx\n",
    "from networkx.readwrite import json_graph\n",
    "import re, sys, csv, json, tqdm, random, pprint, pandas as pd\n",
    "from community import generate_dendrogram, best_partition, partition_at_level"
   ]
  },
  {
   "cell_type": "code",
   "execution_count": null,
   "id": "industrial-album",
   "metadata": {},
   "outputs": [],
   "source": [
    "def getEdgeWeight(a, b):\n",
    "    global G\n",
    "    try:\n",
    "        temp= G[a][b]['weight']\n",
    "        return temp\n",
    "    except:\n",
    "        return 0"
   ]
  },
  {
   "cell_type": "code",
   "execution_count": null,
   "id": "wound-familiar",
   "metadata": {},
   "outputs": [],
   "source": [
    "def loadTxt(name):\n",
    "    return [i.strip() for i in open(f'../../data/{name}', 'r').readlines()]\n",
    "\n",
    "restoredUsersList= set()\n",
    "for i in loadTxt('unsuspended_8_Oct.txt'):\n",
    "    restoredUsersList.add(i)"
   ]
  },
  {
   "cell_type": "code",
   "execution_count": null,
   "id": "middle-range",
   "metadata": {},
   "outputs": [],
   "source": [
    "suspendedUsersList= set()\n",
    "\n",
    "with open(f'../../data/all_tweets_suspended_jan3_2021.pickle', 'rb') as f:\n",
    "    try:\n",
    "        while True:\n",
    "            temp= pkl.load(f)\n",
    "            for i in tqdm.tqdm(temp):\n",
    "                suspendedUsersList.add(i['user']['id_str'])\n",
    "    except:\n",
    "        pass"
   ]
  },
  {
   "cell_type": "code",
   "execution_count": null,
   "id": "religious-catalyst",
   "metadata": {},
   "outputs": [],
   "source": [
    "len(suspendedUsersList), len(restoredUsersList)"
   ]
  },
  {
   "cell_type": "code",
   "execution_count": null,
   "id": "cordless-adolescent",
   "metadata": {},
   "outputs": [],
   "source": [
    "def determineUser(id):\n",
    "    global restoredUsersList, suspendedUsersList\n",
    "    if id in restoredUsersList: return 'Restored'\n",
    "    if id in suspendedUsersList: return 'Suspended'\n",
    "    return 'Other'"
   ]
  },
  {
   "cell_type": "code",
   "execution_count": null,
   "id": "hybrid-wireless",
   "metadata": {},
   "outputs": [],
   "source": [
    "def getUserColor(typeUser):\n",
    "    if typeUser=='Suspended': return '#ff0000'\n",
    "    if typeUser=='Restored': return '#0000ff'\n",
    "    return '#000000'"
   ]
  },
  {
   "cell_type": "code",
   "execution_count": null,
   "id": "thirty-choir",
   "metadata": {},
   "outputs": [],
   "source": [
    "def getEdgeColor(a, b):\n",
    "    if a=='Suspended' and b=='Suspended': return '#ff0000'\n",
    "    if a=='Restored' and b=='Restored': return '#0000ff'\n",
    "    if (a=='Restored' and b=='Suspended') or (a=='Suspended' and b=='Restored'): return '#00ff00'\n",
    "    return '#000000'"
   ]
  },
  {
   "cell_type": "code",
   "execution_count": null,
   "id": "greenhouse-musician",
   "metadata": {},
   "outputs": [],
   "source": [
    "D = {}\n",
    "G = nx.DiGraph()"
   ]
  },
  {
   "cell_type": "code",
   "execution_count": null,
   "id": "worse-mirror",
   "metadata": {},
   "outputs": [],
   "source": [
    "nodes = {'Id': []} #, 'Label': []} #, 'Color': []}\n",
    "edges = {'Source': [], 'Target': [], 'Weight': []} #, 'Color': []}"
   ]
  },
  {
   "cell_type": "code",
   "execution_count": null,
   "id": "greater-excitement",
   "metadata": {},
   "outputs": [],
   "source": [
    "with open(f'../../data/all_tweets_suspended_jan3_2021.pickle', 'rb') as f:\n",
    "    try:\n",
    "        while True:\n",
    "            temp= pkl.load(f)\n",
    "            for i in tqdm.tqdm(temp):\n",
    "                if i.get('retweeted_status'):\n",
    "                    suspended_user= i['user']['id_str']\n",
    "                    retweeted_user= i['retweeted_status']['user']['id_str']\n",
    "                    if suspended_user not in restoredUsersList: # Consider it as only suspended\n",
    "                        G.add_edge(suspended_user, retweeted_user, weight= getEdgeWeight(suspended_user, retweeted_user) + 1)\n",
    "#                         G.nodes[suspended_user]['type']= determineUser(suspended_user)\n",
    "#                         G.nodes[retweeted_user]['type']= determineUser(retweeted_user)\n",
    "    except EOFError:\n",
    "        pass"
   ]
  },
  {
   "cell_type": "code",
   "execution_count": null,
   "id": "religious-aside",
   "metadata": {},
   "outputs": [],
   "source": [
    "for i in G.nodes:\n",
    "    nodes['Id'].append(i)\n",
    "#     nodes['Label'].append(G.nodes[i]['type'])\n",
    "#     nodes['Color'].append(getUserColor(G.nodes[i]['type']))"
   ]
  },
  {
   "cell_type": "code",
   "execution_count": null,
   "id": "exceptional-coverage",
   "metadata": {},
   "outputs": [],
   "source": [
    "for i in G.edges(data=True):\n",
    "    edges['Source'].append(i[0])\n",
    "    edges['Target'].append(i[1])\n",
    "    edges['Weight'].append(i[2]['weight'])\n",
    "#     edges['Color'].append(getEdgeColor(G.nodes[i[0]]['type'], G.nodes[i[1]]['type']))"
   ]
  },
  {
   "cell_type": "code",
   "execution_count": null,
   "id": "strange-integrity",
   "metadata": {},
   "outputs": [],
   "source": [
    "nodes= pd.DataFrame.from_dict(nodes)\n",
    "edges= pd.DataFrame.from_dict(edges)"
   ]
  },
  {
   "cell_type": "code",
   "execution_count": null,
   "id": "rocky-amino",
   "metadata": {},
   "outputs": [],
   "source": [
    "print(nodes)\n",
    "nodes.to_csv('./retweet-nodes-from-only-suspended.csv', index= False)"
   ]
  },
  {
   "cell_type": "code",
   "execution_count": null,
   "id": "severe-italic",
   "metadata": {},
   "outputs": [],
   "source": [
    "print(edges)\n",
    "edges.to_csv('./retweet-edges-from-only-suspended.csv', index= False)"
   ]
  },
  {
   "cell_type": "code",
   "execution_count": null,
   "id": "reserved-basics",
   "metadata": {},
   "outputs": [],
   "source": []
  }
 ],
 "metadata": {
  "kernelspec": {
   "display_name": "Python 3",
   "language": "python",
   "name": "python3"
  },
  "language_info": {
   "codemirror_mode": {
    "name": "ipython",
    "version": 3
   },
   "file_extension": ".py",
   "mimetype": "text/x-python",
   "name": "python",
   "nbconvert_exporter": "python",
   "pygments_lexer": "ipython3",
   "version": "3.7.6"
  }
 },
 "nbformat": 4,
 "nbformat_minor": 5
}
