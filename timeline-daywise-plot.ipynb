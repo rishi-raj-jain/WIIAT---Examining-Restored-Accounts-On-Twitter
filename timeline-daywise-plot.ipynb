{
 "cells": [
  {
   "cell_type": "code",
   "execution_count": null,
   "id": "structural-space",
   "metadata": {},
   "outputs": [],
   "source": [
    "import matplotlib.pyplot as plt\n",
    "import matplotlib.dates as mdates\n",
    "import tqdm, re, pandas as pd, random, pprint"
   ]
  },
  {
   "cell_type": "code",
   "execution_count": null,
   "id": "sunset-water",
   "metadata": {},
   "outputs": [],
   "source": [
    "def get_memory():\n",
    "    status= open('/proc/self/status').read()\n",
    "    memuse= int(re.findall('VmRSS:\\s*(\\d+)\\skB', status)[0]) / 1024 ** 2\n",
    "    print('Resident memory: %.2f GB' % memuse)"
   ]
  },
  {
   "cell_type": "code",
   "execution_count": null,
   "id": "analyzed-thread",
   "metadata": {},
   "outputs": [],
   "source": [
    "get_memory()"
   ]
  },
  {
   "cell_type": "code",
   "execution_count": null,
   "id": "progressive-trick",
   "metadata": {},
   "outputs": [],
   "source": [
    "def loadPickle(name):\n",
    "    return pd.read_pickle(f'../data/{name}')\n",
    "def loadTxt(name):\n",
    "    return [i.strip() for i in open(f'../data/{name}', 'r').readlines()]\n",
    "def dumpPickle(df, name):\n",
    "    df.to_pickle(f'../data/{name}')"
   ]
  },
  {
   "cell_type": "code",
   "execution_count": null,
   "id": "constant-prophet",
   "metadata": {},
   "outputs": [],
   "source": [
    "restoredUsersList= set()\n",
    "for i in loadTxt('unsuspended_8_Oct.txt'):\n",
    "    restoredUsersList.add(i)"
   ]
  },
  {
   "cell_type": "code",
   "execution_count": null,
   "id": "greatest-kennedy",
   "metadata": {},
   "outputs": [],
   "source": [
    "RegB= loadPickle('Regular_Before_py37.pkl')\n",
    "RegA= loadPickle('Regular_After_py37.pkl')\n",
    "# Find the common users\n",
    "regularBefore= RegB[RegB['user.id_str'].isin(RegA['user.id_str'])].copy()\n",
    "regularAfter= RegA[RegA['user.id_str'].isin(RegB['user.id_str'])].copy()\n",
    "# Set the type of user\n",
    "regularBefore['typeOfUser']= 'regularBefore'\n",
    "regularAfter['typeOfUser']= 'regularAfter'"
   ]
  },
  {
   "cell_type": "code",
   "execution_count": null,
   "id": "precise-brunei",
   "metadata": {},
   "outputs": [],
   "source": [
    "ResB= loadPickle('Restored_Before_py37.pkl')\n",
    "ResA= loadPickle('Restored_After_py37.pkl')\n",
    "# Find he common users\n",
    "restoredBefore= ResB[ResB['user.id_str'].isin(ResA['user.id_str'])==True].copy()\n",
    "restoredAfter= ResA[ResA['user.id_str'].isin(ResB['user.id_str'])==True].copy()\n",
    "# Set the type of user\n",
    "restoredBefore['typeOfUser']= 'restoredBefore'\n",
    "restoredAfter['typeOfUser']= 'restoredAfter'"
   ]
  },
  {
   "cell_type": "code",
   "execution_count": null,
   "id": "strong-package",
   "metadata": {},
   "outputs": [],
   "source": [
    "restoredBefore = restoredBefore[['user.id_str', 'created_at', 'id_str']].copy()\n",
    "restoredAfter = restoredAfter[['user.id_str', 'created_at', 'id_str']].copy()\n",
    "regularBefore = regularBefore[['user.id_str', 'created_at', 'id_str']].copy()\n",
    "regularAfter = regularAfter[['user.id_str', 'created_at', 'id_str']].copy()"
   ]
  },
  {
   "cell_type": "code",
   "execution_count": null,
   "id": "specialized-wallace",
   "metadata": {},
   "outputs": [],
   "source": [
    "pklDict= {\n",
    "    'restoredBefore': restoredBefore,\n",
    "    'restoredAfter': restoredAfter,\n",
    "    'regularBefore': regularBefore,\n",
    "    'regularAfter': regularAfter,\n",
    "}\n",
    "ResA= None\n",
    "ResB= None\n",
    "RegA= None\n",
    "RegB= None\n",
    "regularBefore= None\n",
    "regularAfter= None\n",
    "restoredBefore= None\n",
    "restoredAfter= None"
   ]
  },
  {
   "cell_type": "code",
   "execution_count": null,
   "id": "optimum-bridge",
   "metadata": {},
   "outputs": [],
   "source": [
    "pklDict['restoredBefore']['created_at']= pd.to_datetime(pklDict['restoredBefore']['created_at']).dt.tz_convert('Asia/Kolkata')\n",
    "pklDict['restoredAfter']['created_at']= pd.to_datetime(pklDict['restoredAfter']['created_at']).dt.tz_convert('Asia/Kolkata')\n",
    "pklDict['regularBefore']['created_at']= pd.to_datetime(pklDict['regularBefore']['created_at']).dt.tz_convert('Asia/Kolkata')\n",
    "pklDict['regularAfter']['created_at']= pd.to_datetime(pklDict['regularAfter']['created_at']).dt.tz_convert('Asia/Kolkata')"
   ]
  },
  {
   "cell_type": "code",
   "execution_count": null,
   "id": "labeled-fountain",
   "metadata": {},
   "outputs": [],
   "source": [
    "temp= pklDict['regularAfter']\n",
    "pklDict['regularAfter']= temp[temp['created_at'].dt.year==2019]\n",
    "\n",
    "temp= pklDict['regularBefore']\n",
    "pklDict['regularBefore']= temp[temp['created_at'].dt.year==2019]\n",
    "\n",
    "temp= pklDict['restoredAfter']\n",
    "pklDict['restoredAfter']= temp[temp['created_at'].dt.year==2019]\n",
    "\n",
    "temp= pklDict['restoredBefore']\n",
    "pklDict['restoredBefore']= temp[temp['created_at'].dt.year==2019]\n",
    "\n",
    "temp= None"
   ]
  },
  {
   "cell_type": "code",
   "execution_count": null,
   "id": "funded-pepper",
   "metadata": {},
   "outputs": [],
   "source": [
    "pklDict['regularBefore']= pklDict['regularBefore'][pklDict['regularBefore']['user.id_str'].isin(pklDict['regularAfter']['user.id_str'])].copy()\n",
    "pklDict['regularAfter']= pklDict['regularAfter'][pklDict['regularAfter']['user.id_str'].isin(pklDict['regularBefore']['user.id_str'])].copy()\n",
    "pklDict['restoredBefore']= pklDict['restoredBefore'][pklDict['restoredBefore']['user.id_str'].isin(pklDict['restoredAfter']['user.id_str'])].copy()\n",
    "pklDict['restoredAfter']= pklDict['restoredAfter'][pklDict['restoredAfter']['user.id_str'].isin(pklDict['restoredBefore']['user.id_str'])].copy()"
   ]
  },
  {
   "cell_type": "code",
   "execution_count": null,
   "id": "sonic-creativity",
   "metadata": {},
   "outputs": [],
   "source": [
    "# import pickle\n",
    "# # open a file, where you ant to store the data\n",
    "# file = open('/suspended_restored_account/code/pklDict', 'wb')\n",
    "\n",
    "# # dump information to that file\n",
    "# pickle.dump(pklDict, file)\n",
    "\n",
    "# # close the file\n",
    "# file.close()"
   ]
  },
  {
   "cell_type": "code",
   "execution_count": null,
   "id": "public-munich",
   "metadata": {},
   "outputs": [],
   "source": [
    "regular_timeline= pd.concat([pklDict['regularBefore'], pklDict['regularAfter']], ignore_index= True)\n",
    "restored_timeline= pd.concat([pklDict['restoredBefore'], pklDict['restoredAfter']], ignore_index= True)\n",
    "pklDict= None"
   ]
  },
  {
   "cell_type": "code",
   "execution_count": null,
   "id": "honey-table",
   "metadata": {},
   "outputs": [],
   "source": [
    "# Define day wise groups\n",
    "regular_groups= regular_timeline.groupby(regular_timeline['created_at'].dt.date)\n",
    "restored_groups= restored_timeline.groupby(restored_timeline['created_at'].dt.date)"
   ]
  },
  {
   "cell_type": "code",
   "execution_count": null,
   "id": "regulated-boating",
   "metadata": {},
   "outputs": [],
   "source": [
    "# Regular\n",
    "\n",
    "uniqueRegularCount= len(regular_timeline['user.id_str'].unique())\n",
    "print(f'Unique Users {uniqueRegularCount}')\n",
    "\n",
    "x_0, y_0= [], []\n",
    "for name, group in regular_groups:\n",
    "    if len(group.index)>0:\n",
    "        x_0.append(name)\n",
    "        print(f'Tweets on {name} were {len(group.index)}')\n",
    "        y_0.append(len(group.index)/uniqueRegularCount)"
   ]
  },
  {
   "cell_type": "code",
   "execution_count": null,
   "id": "tired-cosmetic",
   "metadata": {},
   "outputs": [],
   "source": [
    "# Restored\n",
    "\n",
    "uniqueRestoredCount= len(restored_timeline['user.id_str'].unique())\n",
    "print(f'Unique Users {uniqueRestoredCount}')\n",
    "\n",
    "x_1, y_1= [], []\n",
    "for name, group in restored_groups:\n",
    "    if len(group.index)>0:\n",
    "        x_1.append(name)\n",
    "        print(f'Tweets on {name} were {len(group.index)}')\n",
    "        y_1.append(len(group.index)/uniqueRestoredCount)"
   ]
  },
  {
   "cell_type": "code",
   "execution_count": null,
   "id": "radio-trance",
   "metadata": {
    "scrolled": true
   },
   "outputs": [],
   "source": [
    "fig= plt.figure()\n",
    "fig.set_size_inches(12, 6)\n",
    "ax= fig.add_subplot(1, 1, 1)\n",
    "axes.set_xlabel(\"Date\", fontsize= 27)\n",
    "axes.set_ylabel(\"No. of tweets\", fontsize= 27)\n",
    "# plt.xlabel('Date')\n",
    "# plt.ylabel('Number of Tweets')\n",
    "ax.tick_params(axis= 'x', labelsize= 20)\n",
    "ax.tick_params(axis= 'y', labelsize= 20)\n",
    "plt.plot(x_0, y_0, c='0.5', label='Regular')\n",
    "plt.plot(x_1, y_1, c='0.2', label='Restored')\n",
    "plt.legend()\n",
    "plt.show()"
   ]
  }
 ],
 "metadata": {
  "kernelspec": {
   "display_name": "Python 3",
   "language": "python",
   "name": "python3"
  },
  "language_info": {
   "codemirror_mode": {
    "name": "ipython",
    "version": 3
   },
   "file_extension": ".py",
   "mimetype": "text/x-python",
   "name": "python",
   "nbconvert_exporter": "python",
   "pygments_lexer": "ipython3",
   "version": "3.7.6"
  }
 },
 "nbformat": 4,
 "nbformat_minor": 5
}
