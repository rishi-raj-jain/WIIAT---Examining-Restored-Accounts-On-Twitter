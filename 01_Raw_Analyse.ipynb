{
 "cells": [
  {
   "cell_type": "code",
   "execution_count": null,
   "metadata": {},
   "outputs": [],
   "source": [
    "import pickle\n",
    "from datetime import datetime\n",
    "import pytz\n",
    "import matplotlib.pyplot as plt\n",
    "import numpy as np\n",
    "import pandas as pd"
   ]
  },
  {
   "cell_type": "markdown",
   "metadata": {},
   "source": [
    "### Data for each tweet\n",
    "dict_keys(['created_at', 'id_str', 'text', 'user', 'retweeted_status', 'quote_count', 'reply_count', 'retweet_count', 'favorite_count', 'entities'])"
   ]
  },
  {
   "cell_type": "code",
   "execution_count": null,
   "metadata": {},
   "outputs": [],
   "source": [
    "userwise_data_form = {}"
   ]
  },
  {
   "cell_type": "markdown",
   "metadata": {},
   "source": [
    "#### Data format is as follows \n",
    "{ \n",
    "\n",
    "  User_ID_Key : {\n",
    "  \n",
    "    reply_tweetwise : []\n",
    "    retweet_tweetwise : []\n",
    "    favorites_tweetwise : []\n",
    "    \n",
    "    tweet_id_values : []\n",
    "    creation_date_values : []\n",
    "    is_RT : []\n",
    "    \n",
    "    latest_tweet_time\n",
    "    verified \n",
    "    followers_count\n",
    "    friends_count\n",
    "    listed_count \n",
    "    favourites_count\n",
    "    statuses_count  \n",
    "    created_at \n",
    "    }\n",
    "}  \n"
   ]
  },
  {
   "cell_type": "code",
   "execution_count": null,
   "metadata": {},
   "outputs": [],
   "source": [
    "def load_single_data(fname):\n",
    "    with open(fname, 'rb') as pickle_file:\n",
    "        data = pickle.load(pickle_file)\n",
    "        return data"
   ]
  },
  {
   "cell_type": "code",
   "execution_count": null,
   "metadata": {},
   "outputs": [],
   "source": [
    "def get_userwise_data(fname):\n",
    "    with open(fname, 'rb') as pickle_file:\n",
    "        try:\n",
    "            while True:\n",
    "#                 current_tweet_set = pickle.load(pickle_file)\n",
    "#                 for tweet in current_tweet_set:\n",
    "#                     ## Process each tweet\n",
    "#                     userid_str = tweet['user']['id_str']\n",
    "                    \n",
    "#                     quote_count = tweet['quote_count']\n",
    "#                     reply_count = tweet['reply_count']\n",
    "#                     retweet_count = tweet['retweet_count']\n",
    "#                     favorite_count = tweet['favorite_count']\n",
    "                    \n",
    "                    \n",
    "                    \n",
    "#                     if userid_str not in userwise_data_form:\n",
    "#                         userwise_data_form[userid_str] = {}            \n",
    "                    \n",
    "#                     try:\n",
    "#                         userwise_data_form[userid_str]['quote_tweetwise'].append(quote_count)\n",
    "#                     except:\n",
    "#                         print(\"WTF\")\n",
    "#                         break\n",
    "#                 break \n",
    "                            \n",
    "#         except EOFError:\n",
    "#             pass\n",
    "#     return like_list"
   ]
  },
  {
   "cell_type": "code",
   "execution_count": null,
   "metadata": {},
   "outputs": [],
   "source": [
    "### Sample Tweet Data\n",
    "load_single_data('../data/all_tweets_normal_jan3_2021.pickle')[0]"
   ]
  },
  {
   "cell_type": "code",
   "execution_count": null,
   "metadata": {
    "scrolled": true
   },
   "outputs": [],
   "source": [
    "def get_userwise_data(fname):\n",
    "    keep_list = ['created_at' , 'id_str']\n",
    "    with open(fname, 'rb') as pickle_file:\n",
    "        try:\n",
    "            while True:\n",
    "                data = pickle.load(pickle_file)\n",
    "                df = pd.DataFrame(data)\n",
    "                print(df.columns)\n",
    "        except EOFError:\n",
    "            pass"
   ]
  },
  {
   "cell_type": "code",
   "execution_count": null,
   "metadata": {
    "collapsed": true
   },
   "outputs": [],
   "source": [
    "get_userwise_data('../data/all_tweets_normal_jan3_2021.pickle')"
   ]
  }
 ],
 "metadata": {
  "kernelspec": {
   "display_name": "Python 3",
   "language": "python",
   "name": "python3"
  },
  "language_info": {
   "codemirror_mode": {
    "name": "ipython",
    "version": 3
   },
   "file_extension": ".py",
   "mimetype": "text/x-python",
   "name": "python",
   "nbconvert_exporter": "python",
   "pygments_lexer": "ipython3",
   "version": "3.7.6"
  }
 },
 "nbformat": 4,
 "nbformat_minor": 4
}
