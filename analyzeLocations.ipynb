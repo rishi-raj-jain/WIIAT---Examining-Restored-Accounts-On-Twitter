{
 "cells": [
  {
   "cell_type": "code",
   "execution_count": null,
   "metadata": {},
   "outputs": [],
   "source": [
    "import pandas as pd\n",
    "lA= pd.read_csv('./locations.csv')\n",
    "lA= lA[lA['Accuracy']>=0.5]\n",
    "lA.to_csv('locationsInFavor.csv', index=False)\n",
    "lA.describe()"
   ]
  },
  {
   "cell_type": "code",
   "execution_count": null,
   "metadata": {
    "tags": []
   },
   "outputs": [],
   "source": [
    "temp= lA['Country_Code']\n",
    "print(f'Number of countries: {len(temp.unique())}')\n",
    "# Get percentages of each country by their country code\n",
    "temp= []\n",
    "groups= lA.groupby('Country_Code')\n",
    "for name, group in groups:\n",
    "    temp.append([name, group.describe()['Lat']['count']])\n",
    "tempDf= pd.DataFrame(temp, columns=['Country_Code', 'Frequency'])\n",
    "tempDf= tempDf.sort_values('Frequency', ascending=False)\n",
    "tempDf['Percentages']= (tempDf['Frequency']*100)/sum(tempDf['Frequency'])\n",
    "print(tempDf[['Country_Code', 'Frequency', 'Percentages']])"
   ]
  },
  {
   "cell_type": "code",
   "execution_count": null,
   "metadata": {
    "tags": []
   },
   "outputs": [],
   "source": [
    "temp= []\n",
    "states= [ \"Andhra Pradesh\",\n",
    "                \"Arunachal Pradesh\",\n",
    "                \"Assam\",\n",
    "                \"Bihar\",\n",
    "                \"Chhattisgarh\",\n",
    "                \"Goa\",\n",
    "                \"Gujarat\",\n",
    "                \"Haryana\",\n",
    "                \"Himachal Pradesh\",\n",
    "                \"Jammu and Kashmir\",\n",
    "                \"Jharkhand\",\n",
    "                \"Karnataka\",\n",
    "                \"Kerala\",\n",
    "                \"Madhya Pradesh\",\n",
    "                \"Maharashtra\",\n",
    "                \"Manipur\",\n",
    "                \"Meghalaya\",\n",
    "                \"Mizoram\",\n",
    "                \"Nagaland\",\n",
    "                \"Odisha\",\n",
    "                \"Punjab\",\n",
    "                \"Rajasthan\",\n",
    "                \"Sikkim\",\n",
    "                \"Tamil Nadu\",\n",
    "                \"Telangana\",\n",
    "                \"Tripura\",\n",
    "                \"Uttarakhand\",\n",
    "                \"Uttar Pradesh\",\n",
    "                \"West Bengal\",\n",
    "                \"Andaman and Nicobar Islands\",\n",
    "                \"Chandigarh\",\n",
    "                \"Dadra and Nagar Haveli\",\n",
    "                \"Daman and Diu\",\n",
    "                \"Delhi\",\n",
    "                \"Lakshadweep\",\n",
    "                \"Lakshwadeep\",\n",
    "                \"Puducherry\"]\n",
    "print(f'Number of states {len(states)}')\n",
    "groups= lA.groupby('Country_Code')\n",
    "tempDf= groups.get_group('in')\n",
    "for i, row in tempDf.iterrows():\n",
    "    for j in states:\n",
    "        if j in row['Location']:\n",
    "            tempDf.at[i, 'State']= j\n",
    "            break\n",
    "statesGroup= tempDf.groupby('State')\n",
    "temp= []\n",
    "for name, group in statesGroup:\n",
    "    temp.append([name, group.describe()['Lat']['count']])\n",
    "tempStates= pd.DataFrame(temp, columns=['State', 'Frequency_States'])\n",
    "tempStates= tempStates.sort_values('Frequency_States', ascending=False)\n",
    "tempStates['Percentages_States']= tempStates['Frequency_States']/sum(tempStates['Frequency_States'])\n",
    "print(tempStates[['State', 'Frequency_States', 'Percentages_States']])\n",
    "Dictar= []\n",
    "for i in states:\n",
    "    if i not in tempStates['State'].values:\n",
    "        Dictar.append(i)\n",
    "print(Dictar)\n",
    "tempStates.to_csv('states.csv', index=False)"
   ]
  },
  {
   "cell_type": "code",
   "execution_count": null,
   "metadata": {},
   "outputs": [],
   "source": [
    "temp= (lA[lA['Country_Code']=='in'])['State']\n",
    "print(f'The number of states {len(temp.unique())}\\n')\n",
    "print(lA['State'].value_counts())"
   ]
  },
  {
   "cell_type": "code",
   "execution_count": null,
   "metadata": {
    "tags": [
     "outputPrepend"
    ]
   },
   "outputs": [],
   "source": [
    "for i in lA['Country_Code'].unique():\n",
    "    temp= lA[lA['Country_Code']==i]\n",
    "    print(temp.describe())\n",
    "    temp.to_csv(f'./Countries/locations_{i}.csv', index=False)"
   ]
  },
  {
   "cell_type": "code",
   "execution_count": null,
   "metadata": {},
   "outputs": [],
   "source": [
    "temp= lA[lA['Country_Code']=='in']\n",
    "temp.to_csv('statesIndia.csv', index=False)"
   ]
  }
 ],
 "metadata": {
  "kernelspec": {
   "display_name": "Python 3.8.6 64-bit",
   "metadata": {
    "interpreter": {
     "hash": "dee3ccb6c11515f831473c57f1731acee2e1c9c2fd3a601a8cbe46de683bd0b3"
    }
   },
   "name": "python3"
  },
  "language_info": {
   "codemirror_mode": {
    "name": "ipython",
    "version": 3
   },
   "file_extension": ".py",
   "mimetype": "text/x-python",
   "name": "python",
   "nbconvert_exporter": "python",
   "pygments_lexer": "ipython3",
   "version": "3.8.6-final"
  }
 },
 "nbformat": 4,
 "nbformat_minor": 2
}
