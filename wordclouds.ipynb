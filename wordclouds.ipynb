{
 "cells": [
  {
   "cell_type": "code",
   "execution_count": null,
   "id": "public-angel",
   "metadata": {},
   "outputs": [],
   "source": [
    "import tqdm, re, pandas as pd, random, pprint\n",
    "import matplotlib.pyplot as plt\n",
    "import pickle as pkl"
   ]
  },
  {
   "cell_type": "code",
   "execution_count": null,
   "id": "informational-suspension",
   "metadata": {},
   "outputs": [],
   "source": [
    "from wordcloud import WordCloud, STOPWORDS\n",
    "stopwords= set(STOPWORDS)"
   ]
  },
  {
   "cell_type": "code",
   "execution_count": null,
   "id": "several-scholar",
   "metadata": {},
   "outputs": [],
   "source": [
    "def get_memory():\n",
    "    status= open('/proc/self/status').read()\n",
    "    memuse= int(re.findall('VmRSS:\\s*(\\d+)\\skB', status)[0]) / 1024 ** 2\n",
    "    print('Resident memory: %.2f GB' % memuse)"
   ]
  },
  {
   "cell_type": "code",
   "execution_count": null,
   "id": "lyric-difference",
   "metadata": {},
   "outputs": [],
   "source": [
    "get_memory()"
   ]
  },
  {
   "cell_type": "code",
   "execution_count": null,
   "id": "powered-washer",
   "metadata": {},
   "outputs": [],
   "source": [
    "def loadPickle(name):\n",
    "    return pd.read_pickle(f'../data/{name}')\n",
    "def loadTxt(name):\n",
    "    return [i.strip() for i in open(f'../data/{name}', 'r').readlines()]\n",
    "def dumpPickle(df, name):\n",
    "    df.to_pickle(f'../data/{name}')"
   ]
  },
  {
   "cell_type": "code",
   "execution_count": null,
   "id": "white-adolescent",
   "metadata": {},
   "outputs": [],
   "source": [
    "restoredUsersList= set()\n",
    "for i in loadTxt('unsuspended_8_Oct.txt'):\n",
    "    restoredUsersList.add(i)"
   ]
  },
  {
   "cell_type": "code",
   "execution_count": null,
   "id": "electoral-default",
   "metadata": {},
   "outputs": [],
   "source": [
    "RegB= loadPickle('Regular_Before_py37.pkl')\n",
    "RegA= loadPickle('Regular_After_py37.pkl')\n",
    "# Find the common users\n",
    "regularBefore= RegB[RegB['user.id_str'].isin(RegA['user.id_str'])].copy()\n",
    "regularAfter= RegA[RegA['user.id_str'].isin(RegB['user.id_str'])].copy()\n",
    "# Set the type of user\n",
    "regularBefore['typeOfUser']= 'regularBefore'\n",
    "regularAfter['typeOfUser']= 'regularAfter'"
   ]
  },
  {
   "cell_type": "code",
   "execution_count": null,
   "id": "polyphonic-looking",
   "metadata": {},
   "outputs": [],
   "source": [
    "ResB= loadPickle('Restored_Before_py37.pkl')\n",
    "ResA= loadPickle('Restored_After_py37.pkl')\n",
    "# Find he common users\n",
    "restoredBefore= ResB[ResB['user.id_str'].isin(ResA['user.id_str'])==True].copy()\n",
    "restoredAfter= ResA[ResA['user.id_str'].isin(ResB['user.id_str'])==True].copy()\n",
    "# Set the type of user\n",
    "restoredBefore['typeOfUser']= 'restoredBefore'\n",
    "restoredAfter['typeOfUser']= 'restoredAfter'"
   ]
  },
  {
   "cell_type": "code",
   "execution_count": null,
   "id": "korean-patent",
   "metadata": {},
   "outputs": [],
   "source": [
    "pklDict= {\n",
    "    'restoredBefore': restoredBefore,\n",
    "    'restoredAfter': restoredAfter,\n",
    "    'regularBefore': regularBefore,\n",
    "    'regularAfter': regularAfter,\n",
    "}\n",
    "ResA= None\n",
    "ResB= None\n",
    "RegA= None\n",
    "RegB= None\n",
    "regularBefore= None\n",
    "regularAfter= None\n",
    "restoredBefore= None\n",
    "restoredAfter= None"
   ]
  },
  {
   "cell_type": "code",
   "execution_count": null,
   "id": "racial-broadcasting",
   "metadata": {},
   "outputs": [],
   "source": [
    "# Define the colors for grayscale\n",
    "def grey_color_func(word, font_size, position, orientation, random_state=None, **kwargs):\n",
    "   return \"hsl(0, 0%%, %d%%)\" % random.randint(15, 45)"
   ]
  },
  {
   "cell_type": "code",
   "execution_count": null,
   "id": "split-script",
   "metadata": {},
   "outputs": [],
   "source": [
    "# Preprocess the data (remove hashtag, links and mentions from the text)\n",
    "def preprocess(data):\n",
    "    comment_words= ''\n",
    "    for i in tqdm.tqdm(data):\n",
    "        if isinstance(i, str):\n",
    "            tokens= re.sub(\"(@[A-Za-z0-9]+)|([^0-9A-Za-z \\t])|(\\w+:\\/\\/\\S+)\", \" \", i).split()\n",
    "            for i in range(len(tokens)):\n",
    "                tokens[i]= tokens[i].lower() \n",
    "            comment_words+= \" \".join([i for i in tokens if len(i)>3]) + \" \"\n",
    "    return comment_words"
   ]
  },
  {
   "cell_type": "code",
   "execution_count": null,
   "id": "threatened-lobby",
   "metadata": {},
   "outputs": [],
   "source": [
    "# Plotting the wordcloud\n",
    "def plotWordCloud(data):\n",
    "\n",
    "    # Configuring the WordCloud api\n",
    "    wordcloud= WordCloud(\n",
    "        collocations= False, # To remove duplicate entries\n",
    "        width= 1000, \n",
    "        height= 1000,\n",
    "        background_color= '#ffffff',\n",
    "        stopwords= stopwords, \n",
    "        min_font_size= 10\n",
    "    ).generate(preprocess(data))\n",
    "    wordcloud.recolor(color_func= grey_color_func)\n",
    "    \n",
    "    # plot the WordCloud\n",
    "    plt.figure(figsize= (8, 8), facecolor= None)\n",
    "    plt.imshow(wordcloud) \n",
    "    plt.axis(\"off\") \n",
    "    plt.tight_layout(pad= 0)\n",
    "    plt.show()"
   ]
  },
  {
   "cell_type": "markdown",
   "id": "absent-attitude",
   "metadata": {},
   "source": [
    "## What restored before were talking about"
   ]
  },
  {
   "cell_type": "code",
   "execution_count": null,
   "id": "removable-saver",
   "metadata": {},
   "outputs": [],
   "source": [
    "plotWordCloud(list(pklDict['restoredBefore']['full_text']))"
   ]
  },
  {
   "cell_type": "markdown",
   "id": "fundamental-grocery",
   "metadata": {},
   "source": [
    "## What restored after are talking about"
   ]
  },
  {
   "cell_type": "code",
   "execution_count": null,
   "id": "pacific-macedonia",
   "metadata": {},
   "outputs": [],
   "source": [
    "plotWordCloud(list(pklDict['restoredAfter']['full_text']))"
   ]
  },
  {
   "cell_type": "markdown",
   "id": "combined-crossing",
   "metadata": {},
   "source": [
    "## What regular before were talking about"
   ]
  },
  {
   "cell_type": "code",
   "execution_count": null,
   "id": "liberal-holly",
   "metadata": {},
   "outputs": [],
   "source": [
    "plotWordCloud(list(pklDict['regularBefore']['full_text']))"
   ]
  },
  {
   "cell_type": "markdown",
   "id": "derived-cemetery",
   "metadata": {},
   "source": [
    "## What regular after are talking about"
   ]
  },
  {
   "cell_type": "code",
   "execution_count": null,
   "id": "fourth-ceremony",
   "metadata": {},
   "outputs": [],
   "source": [
    "plotWordCloud(list(pklDict['regularAfter']['full_text']))"
   ]
  },
  {
   "cell_type": "code",
   "execution_count": null,
   "id": "supported-difference",
   "metadata": {},
   "outputs": [],
   "source": [
    "normal_tweets= []\n",
    "with open(f'../data/all_tweets_normal_jan3_2021.pickle', 'rb') as f:\n",
    "    try:\n",
    "        while True:\n",
    "            temp= pkl.load(f)\n",
    "            for i in tqdm.tqdm(temp):\n",
    "                if i.get('retweeted_status'):\n",
    "                    if i['retweeted_status'].get('extended_tweet'):\n",
    "                        if i['retweeted_status']['extended_tweet'].get('full_text'):\n",
    "                            normal_tweets.append(i['retweeted_status']['extended_tweet']['full_text'])\n",
    "                        else:\n",
    "                            print('--Here--1--')\n",
    "                            pprint.pprint(i)\n",
    "                            break\n",
    "                    else:\n",
    "                        if i['retweeted_status'].get('full_text'):\n",
    "                            normal_tweets.append(i['retweeted_status']['full_text'])\n",
    "                        elif i['retweeted_status'].get('text'):\n",
    "                            normal_tweets.append(i['retweeted_status']['text'])\n",
    "                        else:\n",
    "                            print('--Here--2--')\n",
    "                            pprint.pprint(i)\n",
    "                            break\n",
    "                elif i.get('full_text'):\n",
    "                    normal_tweets.append(i['full_text'])\n",
    "                elif i.get('text'):\n",
    "                    normal_tweets.append(i['text'])\n",
    "                else:\n",
    "                    print('--Here--3--')\n",
    "                    pprint.pprint(i)\n",
    "                    break\n",
    "    except EOFError:\n",
    "        pass"
   ]
  },
  {
   "cell_type": "code",
   "execution_count": null,
   "id": "removable-leave",
   "metadata": {},
   "outputs": [],
   "source": [
    "plotWordCloud(normal_tweets)"
   ]
  },
  {
   "cell_type": "code",
   "execution_count": null,
   "id": "saving-stress",
   "metadata": {},
   "outputs": [],
   "source": [
    "suspended_tweets= []\n",
    "restored_tweets= []\n",
    "with open(f'../data/all_tweets_suspended_jan3_2021.pickle', 'rb') as f:\n",
    "    try:\n",
    "        while True:\n",
    "            temp= pkl.load(f)\n",
    "            for i in tqdm.tqdm(temp):\n",
    "                if i.get('retweeted_status'):\n",
    "                    if i['retweeted_status'].get('extended_tweet'):\n",
    "                        if i['retweeted_status']['extended_tweet'].get('full_text'):\n",
    "                            if i['retweeted_status']['user']['id_str'] in restoredUsersList:\n",
    "                                restored_tweets.append(i['retweeted_status']['extended_tweet']['full_text'])\n",
    "                            else:\n",
    "                                suspended_tweets.append(i['retweeted_status']['extended_tweet']['full_text'])\n",
    "                        else:\n",
    "                            print('--Here--1--')\n",
    "                            pprint.pprint(i)\n",
    "                            break\n",
    "                    else:\n",
    "                        if i['retweeted_status'].get('full_text'):\n",
    "                            if i['retweeted_status']['user']['id_str'] in restoredUsersList:\n",
    "                                restored_tweets.append(i['retweeted_status']['full_text'])\n",
    "                            else:\n",
    "                                suspended_tweets.append(i['retweeted_status']['full_text'])\n",
    "                        elif i['retweeted_status'].get('text'):\n",
    "                            if i['retweeted_status']['user']['id_str'] in restoredUsersList:\n",
    "                                restored_tweets.append(i['retweeted_status']['text'])\n",
    "                            else:\n",
    "                                suspended_tweets.append(i['retweeted_status']['text'])\n",
    "                        else:\n",
    "                            print('--Here--2--')\n",
    "                            pprint.pprint(i)\n",
    "                            break\n",
    "                elif i.get('full_text'):\n",
    "                    if i['user']['id_str'] in restoredUsersList:\n",
    "                        restored_tweets.append(i['full_text'])\n",
    "                    else:\n",
    "                        suspended_tweets.append(i['full_text'])\n",
    "                elif i.get('text'):\n",
    "                    if i['user']['id_str'] in restoredUsersList:\n",
    "                        restored_tweets.append(i['text'])\n",
    "                    else:\n",
    "                        suspended_tweets.append(i['text'])\n",
    "                else:\n",
    "                    print('--Here--3--')\n",
    "                    pprint.pprint(i)\n",
    "                    break\n",
    "    except EOFError:\n",
    "        pass"
   ]
  },
  {
   "cell_type": "code",
   "execution_count": null,
   "id": "sharing-authentication",
   "metadata": {},
   "outputs": [],
   "source": [
    "plotWordCloud(suspended_tweets)"
   ]
  },
  {
   "cell_type": "code",
   "execution_count": null,
   "id": "weekly-dominant",
   "metadata": {},
   "outputs": [],
   "source": [
    "plotWordCloud(restored_tweets)"
   ]
  }
 ],
 "metadata": {
  "kernelspec": {
   "display_name": "Python 3",
   "language": "python",
   "name": "python3"
  },
  "language_info": {
   "codemirror_mode": {
    "name": "ipython",
    "version": 3
   },
   "file_extension": ".py",
   "mimetype": "text/x-python",
   "name": "python",
   "nbconvert_exporter": "python",
   "pygments_lexer": "ipython3",
   "version": "3.7.6"
  }
 },
 "nbformat": 4,
 "nbformat_minor": 5
}
