{
 "cells": [
  {
   "cell_type": "code",
   "execution_count": null,
   "id": "employed-evolution",
   "metadata": {},
   "outputs": [],
   "source": [
    "import tqdm, re, pandas as pd, random, pprint, json\n",
    "import matplotlib.pyplot as plt\n",
    "import pickle as pkl\n",
    "from wordcloud import WordCloud, STOPWORDS\n",
    "stopwords= set(STOPWORDS)\n",
    "from gensim.models.ldamodel import LdaModel\n",
    "from gensim.corpora.dictionary import Dictionary"
   ]
  },
  {
   "cell_type": "code",
   "execution_count": null,
   "id": "acting-enhancement",
   "metadata": {},
   "outputs": [],
   "source": [
    "def get_memory():\n",
    "    status= open('/proc/self/status').read()\n",
    "    memuse= int(re.findall('VmRSS:\\s*(\\d+)\\skB', status)[0]) / 1024 ** 2\n",
    "    print('Resident memory: %.2f GB' % memuse)"
   ]
  },
  {
   "cell_type": "code",
   "execution_count": null,
   "id": "moderate-hometown",
   "metadata": {},
   "outputs": [],
   "source": [
    "get_memory()"
   ]
  },
  {
   "cell_type": "code",
   "execution_count": null,
   "id": "ranging-greenhouse",
   "metadata": {},
   "outputs": [],
   "source": [
    "def loadPickle(name):\n",
    "    return pd.read_pickle(f'../data/{name}')\n",
    "def loadTxt(name):\n",
    "    return [i.strip() for i in open(f'../data/{name}', 'r').readlines()]\n",
    "def dumpPickle(df, name):\n",
    "    df.to_pickle(f'../data/{name}')"
   ]
  },
  {
   "cell_type": "code",
   "execution_count": null,
   "id": "large-soccer",
   "metadata": {},
   "outputs": [],
   "source": [
    "def showTopics(data):\n",
    "    # create dictionary\n",
    "    splitDf= data.map(lambda x: [i.lower() for i in re.sub(\"(@[A-Za-z0-9]+)|([^0-9A-Za-z \\t])|(\\w+:\\/\\/\\S+)\",\" \",x).split() if len(i)>=3 and i not in stopwords])\n",
    "    text_dict= Dictionary(splitDf)\n",
    "    # Output the frequent topics LDA Model\n",
    "    tweets_bow= [text_dict.doc2bow(tweet) for tweet in splitDf]\n",
    "    tweets_lda= LdaModel(tweets_bow, num_topics= 1, id2word= text_dict, random_state= 1, passes= 10)\n",
    "    for idx, topic in tweets_lda.show_topics(formatted=False):\n",
    "        print('Topic: {} \\nWords: {}'.format(idx, [w[0] for w in topic]))"
   ]
  },
  {
   "cell_type": "code",
   "execution_count": null,
   "id": "animated-description",
   "metadata": {},
   "outputs": [],
   "source": [
    "suspendedLang= json.load(open('../../data/suspended_tweets_lang_accuracy.json',))\n",
    "restoredLang= json.load(open('../../data/restored_tweets_lang_accuracy.json',))\n",
    "langDict= suspendedLang\n",
    "for i in restoredLang:\n",
    "    langDict[i]= restoredLang[i]"
   ]
  },
  {
   "cell_type": "code",
   "execution_count": null,
   "id": "premium-delight",
   "metadata": {},
   "outputs": [],
   "source": [
    "temp= pd.read_csv('./exported-nodes-network-usermentions-suspended-restored.csv')\n",
    "print(temp[temp['Cluster']<=4]['Cluster'].value_counts())\n",
    "mentionedUsers= {}\n",
    "for i, r in temp[temp['Cluster']<=4][['Cluster', 'Id']].iterrows():\n",
    "    mentionedUsers[str(r['Id'])]= r['Cluster']\n",
    "temp= pd.read_csv('./exported-nodes-network-suspended-restored.csv')\n",
    "print(temp[temp['Cluster']<=4]['Cluster'].value_counts())\n",
    "retweetedUsers= {}\n",
    "for i, r in temp[temp['Cluster']<=4][['Cluster', 'Id']].iterrows():\n",
    "    retweetedUsers[str(r['Id'])]= r['Cluster']"
   ]
  },
  {
   "cell_type": "code",
   "execution_count": null,
   "id": "talented-briefs",
   "metadata": {},
   "outputs": [],
   "source": [
    "userMentions= [{'full_text': []}, {'full_text': []}, {'full_text': []}, {'full_text': []}, {'full_text': []}]\n",
    "with open(f'../../data/all_tweets_suspended_jan3_2021.pickle', 'rb') as f:\n",
    "    try:\n",
    "        while True:\n",
    "            temp= pkl.load(f)\n",
    "            for i in tqdm.tqdm(temp):\n",
    "                if i.get('retweeted_status') is None and langDict[i['id_str']]['lang']=='en':\n",
    "                    if mentionedUsers.get(i['user']['id_str']) is not None:\n",
    "                        clusterIndex= mentionedUsers[i['user']['id_str']]\n",
    "                        if i.get('text'):\n",
    "                            userMentions[clusterIndex]['full_text'].append(i['text'])\n",
    "                        elif i.get('full_text'):\n",
    "                            userMentions[clusterIndex]['full_text'].append(i['full_text'])\n",
    "    except EOFError:\n",
    "        pass"
   ]
  },
  {
   "cell_type": "code",
   "execution_count": null,
   "id": "tamil-genre",
   "metadata": {},
   "outputs": [],
   "source": [
    "for i in userMentions:\n",
    "    showTopics(pd.DataFrame.from_dict(i)['full_text'])\n",
    "    print('\\n')"
   ]
  },
  {
   "cell_type": "code",
   "execution_count": null,
   "id": "crazy-chamber",
   "metadata": {},
   "outputs": [],
   "source": [
    "userRetweets= [{'full_text': []}, {'full_text': []}, {'full_text': []}, {'full_text': []}, {'full_text': []}]\n",
    "with open(f'../../data/all_tweets_suspended_jan3_2021.pickle', 'rb') as f:\n",
    "    try:\n",
    "        while True:\n",
    "            temp= pkl.load(f)\n",
    "            for i in tqdm.tqdm(temp):\n",
    "                if i.get('retweeted_status') is None and langDict[i['id_str']]['lang']=='en':\n",
    "                    if retweetedUsers.get(i['user']['id_str']) is not None:\n",
    "                        clusterIndex= retweetedUsers[i['user']['id_str']]\n",
    "                        if i.get('text'):\n",
    "                            userRetweets[clusterIndex]['full_text'].append(i['text'])\n",
    "                        elif i.get('full_text'):\n",
    "                            userRetweets[clusterIndex]['full_text'].append(i['full_text'])\n",
    "    except EOFError:\n",
    "        pass"
   ]
  },
  {
   "cell_type": "code",
   "execution_count": null,
   "id": "muslim-currency",
   "metadata": {},
   "outputs": [],
   "source": [
    "for i in userRetweets:\n",
    "    showTopics(pd.DataFrame.from_dict(i)['full_text'])\n",
    "    print('\\n')"
   ]
  }
 ],
 "metadata": {
  "kernelspec": {
   "display_name": "Python 3",
   "language": "python",
   "name": "python3"
  },
  "language_info": {
   "codemirror_mode": {
    "name": "ipython",
    "version": 3
   },
   "file_extension": ".py",
   "mimetype": "text/x-python",
   "name": "python",
   "nbconvert_exporter": "python",
   "pygments_lexer": "ipython3",
   "version": "3.7.6"
  }
 },
 "nbformat": 4,
 "nbformat_minor": 5
}
