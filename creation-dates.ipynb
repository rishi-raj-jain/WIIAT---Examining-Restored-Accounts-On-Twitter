{
 "cells": [
  {
   "cell_type": "code",
   "execution_count": null,
   "id": "british-performance",
   "metadata": {},
   "outputs": [],
   "source": [
    "import tqdm, re, pandas as pd, random, pprint, seaborn as sns, matplotlib.pyplot as plt, pickle as pkl\n",
    "from mpl_toolkits.axes_grid.inset_locator import inset_axes"
   ]
  },
  {
   "cell_type": "code",
   "execution_count": null,
   "id": "governing-bachelor",
   "metadata": {},
   "outputs": [],
   "source": [
    "def get_memory():\n",
    "    status= open('/proc/self/status').read()\n",
    "    memuse= int(re.findall('VmRSS:\\s*(\\d+)\\skB', status)[0]) / 1024 ** 2\n",
    "    print('Resident memory: %.2f GB' % memuse)"
   ]
  },
  {
   "cell_type": "code",
   "execution_count": null,
   "id": "amino-emission",
   "metadata": {},
   "outputs": [],
   "source": [
    "get_memory()"
   ]
  },
  {
   "cell_type": "code",
   "execution_count": null,
   "id": "identical-eagle",
   "metadata": {},
   "outputs": [],
   "source": [
    "def loadPickle(name):\n",
    "    return pd.read_pickle(f'../data/{name}')\n",
    "def loadTxt(name):\n",
    "    return [i.strip() for i in open(f'../../data/{name}', 'r').readlines()]\n",
    "def dumpPickle(df, name):\n",
    "    df.to_pickle(f'../data/{name}')"
   ]
  },
  {
   "cell_type": "code",
   "execution_count": null,
   "id": "built-girlfriend",
   "metadata": {},
   "outputs": [],
   "source": [
    "Normal_Data= {'user_creation': set()}\n",
    "with open(f'../../data/all_tweets_normal_jan3_2021.pickle', 'rb') as f:\n",
    "    try:\n",
    "        while True:\n",
    "            temp= pkl.load(f)\n",
    "            for i in tqdm.tqdm(temp):\n",
    "                user_creation= i['user']['created_at']\n",
    "                Normal_Data['user_creation'].add(user_creation)\n",
    "    except EOFError:\n",
    "        pass\n",
    "Normal_Data['user_creation']= list(Normal_Data['user_creation'])"
   ]
  },
  {
   "cell_type": "code",
   "execution_count": null,
   "id": "sonic-shoulder",
   "metadata": {},
   "outputs": [],
   "source": [
    "restoredUsersList= set()\n",
    "for i in loadTxt('unsuspended_8_Oct.txt'):\n",
    "    restoredUsersList.add(i)"
   ]
  },
  {
   "cell_type": "code",
   "execution_count": null,
   "id": "checked-adaptation",
   "metadata": {},
   "outputs": [],
   "source": [
    "Suspended_Data= {'user_creation': set()}\n",
    "Restored_Data= {'user_creation': set()}\n",
    "with open(f'../../data/all_tweets_suspended_jan3_2021.pickle', 'rb') as f:\n",
    "    try:\n",
    "        while True:\n",
    "            temp= pkl.load(f)\n",
    "            for i in tqdm.tqdm(temp):\n",
    "                user_creation= i['user']['created_at']\n",
    "                user_id= i['user']['id_str']\n",
    "                if user_id in restoredUsersList:\n",
    "                    Restored_Data['user_creation'].add(user_creation)\n",
    "                else:\n",
    "                    Suspended_Data['user_creation'].add(user_creation)\n",
    "    except EOFError:\n",
    "        pass\n",
    "Suspended_Data['user_creation']= list(Suspended_Data['user_creation'])\n",
    "Restored_Data['user_creation']= list(Restored_Data['user_creation'])"
   ]
  },
  {
   "cell_type": "code",
   "execution_count": null,
   "id": "entire-procedure",
   "metadata": {},
   "outputs": [],
   "source": [
    "Normal_Data= pd.DataFrame.from_dict(Normal_Data)\n",
    "Suspended_Data= pd.DataFrame.from_dict(Suspended_Data)\n",
    "Restored_Data= pd.DataFrame.from_dict(Restored_Data)"
   ]
  },
  {
   "cell_type": "code",
   "execution_count": null,
   "id": "private-silly",
   "metadata": {},
   "outputs": [],
   "source": [
    "Normal_Data['user_creation']= pd.to_datetime(Normal_Data['user_creation'])\n",
    "Suspended_Data['user_creation']= pd.to_datetime(Suspended_Data['user_creation'])\n",
    "Restored_Data['user_creation']= pd.to_datetime(Restored_Data['user_creation'])"
   ]
  },
  {
   "cell_type": "code",
   "execution_count": null,
   "id": "promising-apache",
   "metadata": {},
   "outputs": [],
   "source": [
    "Normal_Data['user_creation']= Normal_Data['user_creation'][Normal_Data['user_creation'] > '2006-01-01']\n",
    "Suspended_Data['user_creation']= Suspended_Data['user_creation'][Suspended_Data['user_creation'] > '2006-01-01']\n",
    "Restored_Data['user_creation']= Restored_Data['user_creation'][Restored_Data['user_creation'] > '2006-01-01']"
   ]
  },
  {
   "cell_type": "code",
   "execution_count": null,
   "id": "technological-sugar",
   "metadata": {},
   "outputs": [],
   "source": [
    "def plot_creation_date(dt_col, label, x1= 1, x2= 1, y1= 1, y2= 1):\n",
    "    ser= pd.Series(1, index= dt_col).resample('M').agg('count')\n",
    "    ser.index= ser.index.to_period('M')\n",
    "    tot_counts= ser.sum()\n",
    "    ser/= tot_counts\n",
    "    ax= ser.plot(c= '0.5')\n",
    "    ax.set_ylim(0, 0.3)\n",
    "    ax.set_xlabel(\"Creation Date\", fontsize = 16) \n",
    "    ax.set_ylabel(\"Fraction of Accouts\", fontsize = 16)\n",
    "    axins= inset_axes(ax, 2, 1.5, loc=2, bbox_to_anchor= (0.2, 0.85), bbox_transform= ax.figure.transFigure)\n",
    "    axins= ser.plot(marker= 'o', c= '0.5')\n",
    "    axins.set(xlabel= \"\")\n",
    "    axins.set_xlim(x1, x2)\n",
    "    axins.set_ylim(y1, y2)"
   ]
  },
  {
   "cell_type": "code",
   "execution_count": null,
   "id": "critical-netscape",
   "metadata": {},
   "outputs": [],
   "source": [
    "plot_creation_date(Normal_Data['user_creation'], \"Normal Accounts\", x1= '2019-01', x2= '2019-05', y1= 0, y2= 0.3)"
   ]
  },
  {
   "cell_type": "code",
   "execution_count": null,
   "id": "educational-alert",
   "metadata": {},
   "outputs": [],
   "source": [
    "plot_creation_date(Suspended_Data['user_creation'], \"Suspended Accounts\", x1= '2019-01', x2= '2019-05', y1= 0, y2= 0.3)"
   ]
  },
  {
   "cell_type": "code",
   "execution_count": null,
   "id": "virgin-raising",
   "metadata": {},
   "outputs": [],
   "source": [
    "plot_creation_date(Restored_Data['user_creation'], \"Restored Accounts\", x1= '2019-01', x2= '2019-05', y1= 0, y2= 0.3)"
   ]
  }
 ],
 "metadata": {
  "kernelspec": {
   "display_name": "Python 3",
   "language": "python",
   "name": "python3"
  },
  "language_info": {
   "codemirror_mode": {
    "name": "ipython",
    "version": 3
   },
   "file_extension": ".py",
   "mimetype": "text/x-python",
   "name": "python",
   "nbconvert_exporter": "python",
   "pygments_lexer": "ipython3",
   "version": "3.7.6"
  }
 },
 "nbformat": 4,
 "nbformat_minor": 5
}
