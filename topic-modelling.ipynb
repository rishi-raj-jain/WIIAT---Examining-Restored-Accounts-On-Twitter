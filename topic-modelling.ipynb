{
 "cells": [
  {
   "cell_type": "code",
   "execution_count": null,
   "id": "employed-evolution",
   "metadata": {},
   "outputs": [],
   "source": [
    "import tqdm, re, pandas as pd, random\n",
    "import matplotlib.pyplot as plt\n",
    "from wordcloud import WordCloud, STOPWORDS\n",
    "stopwords= set(STOPWORDS)\n",
    "from gensim.models.ldamodel import LdaModel\n",
    "from gensim.corpora.dictionary import Dictionary"
   ]
  },
  {
   "cell_type": "code",
   "execution_count": null,
   "id": "acting-enhancement",
   "metadata": {},
   "outputs": [],
   "source": [
    "def get_memory():\n",
    "    status= open('/proc/self/status').read()\n",
    "    memuse= int(re.findall('VmRSS:\\s*(\\d+)\\skB', status)[0]) / 1024 ** 2\n",
    "    print('Resident memory: %.2f GB' % memuse)"
   ]
  },
  {
   "cell_type": "code",
   "execution_count": null,
   "id": "moderate-hometown",
   "metadata": {},
   "outputs": [],
   "source": [
    "get_memory()"
   ]
  },
  {
   "cell_type": "code",
   "execution_count": null,
   "id": "ranging-greenhouse",
   "metadata": {},
   "outputs": [],
   "source": [
    "def loadPickle(name):\n",
    "    return pd.read_pickle(f'../data/{name}')\n",
    "def loadTxt(name):\n",
    "    return [i.strip() for i in open(f'../data/{name}', 'r').readlines()]\n",
    "def dumpPickle(df, name):\n",
    "    df.to_pickle(f'../data/{name}')"
   ]
  },
  {
   "cell_type": "code",
   "execution_count": null,
   "id": "concrete-mechanism",
   "metadata": {},
   "outputs": [],
   "source": [
    "RegB= loadPickle('Regular_Before_py37.pkl')\n",
    "RegA= loadPickle('Regular_After_py37.pkl')\n",
    "# Find the common users\n",
    "regularBefore= RegB[RegB['user.id_str'].isin(RegA['user.id_str'])].copy()\n",
    "regularAfter= RegA[RegA['user.id_str'].isin(RegB['user.id_str'])].copy()\n",
    "# Set the type of user\n",
    "regularBefore['typeOfUser']= 'regularBefore'\n",
    "regularAfter['typeOfUser']= 'regularAfter'"
   ]
  },
  {
   "cell_type": "code",
   "execution_count": null,
   "id": "alive-berkeley",
   "metadata": {},
   "outputs": [],
   "source": [
    "ResB= loadPickle('Restored_Before_py37.pkl')\n",
    "ResA= loadPickle('Restored_After_py37.pkl')\n",
    "# Find he common users\n",
    "restoredBefore= ResB[ResB['user.id_str'].isin(ResA['user.id_str'])==True].copy()\n",
    "restoredAfter= ResA[ResA['user.id_str'].isin(ResB['user.id_str'])==True].copy()\n",
    "# Set the type of user\n",
    "restoredBefore['typeOfUser']= 'restoredBefore'\n",
    "restoredAfter['typeOfUser']= 'restoredAfter'"
   ]
  },
  {
   "cell_type": "code",
   "execution_count": null,
   "id": "focal-sound",
   "metadata": {},
   "outputs": [],
   "source": [
    "pklDict= {\n",
    "    'restoredBefore': restoredBefore,\n",
    "    'restoredAfter': restoredAfter,\n",
    "    'regularBefore': regularBefore,\n",
    "    'regularAfter': regularAfter,\n",
    "}\n",
    "ResA= None\n",
    "ResB= None\n",
    "RegA= None\n",
    "RegB= None\n",
    "regularBefore= None\n",
    "regularAfter= None\n",
    "restoredBefore= None\n",
    "restoredAfter= None"
   ]
  },
  {
   "cell_type": "code",
   "execution_count": null,
   "id": "large-soccer",
   "metadata": {},
   "outputs": [],
   "source": [
    "def showTopics(data):\n",
    "    # create dictionary\n",
    "    splitDf= data.map(lambda x: [i.lower() for i in re.sub(\"(@[A-Za-z0-9]+)|([^0-9A-Za-z \\t])|(\\w+:\\/\\/\\S+)\",\" \",x).split() if len(i)>=3 and i not in stopwords])\n",
    "    text_dict= Dictionary(splitDf)\n",
    "\n",
    "    # Output the frequent topics LDA Model\n",
    "    tweets_bow= [text_dict.doc2bow(tweet) for tweet in splitDf]\n",
    "    tweets_lda= LdaModel(tweets_bow, num_topics= 5, id2word= text_dict, random_state= 1, passes= 10)\n",
    "    for index, topic in tweets_lda.show_topics(formatted=False):\n",
    "        print('Topic: {} \\nWords: {}'.format(idx, [w[0] for w in topic]))"
   ]
  },
  {
   "cell_type": "code",
   "execution_count": null,
   "id": "talented-briefs",
   "metadata": {},
   "outputs": [],
   "source": [
    "showTopics(pklDict['restoredBefore']['full_text'])"
   ]
  },
  {
   "cell_type": "code",
   "execution_count": null,
   "id": "intense-group",
   "metadata": {},
   "outputs": [],
   "source": [
    "showTopics(pklDict['restoredAfter']['full_text'])"
   ]
  },
  {
   "cell_type": "code",
   "execution_count": null,
   "id": "tamil-genre",
   "metadata": {},
   "outputs": [],
   "source": [
    "showTopics(pklDict['regularBefore']['full_text'])"
   ]
  },
  {
   "cell_type": "code",
   "execution_count": null,
   "id": "silver-individual",
   "metadata": {},
   "outputs": [],
   "source": [
    "showTopics(pklDict['regularAfter']['full_text'])"
   ]
  }
 ],
 "metadata": {
  "kernelspec": {
   "display_name": "Python 3",
   "language": "python",
   "name": "python3"
  },
  "language_info": {
   "codemirror_mode": {
    "name": "ipython",
    "version": 3
   },
   "file_extension": ".py",
   "mimetype": "text/x-python",
   "name": "python",
   "nbconvert_exporter": "python",
   "pygments_lexer": "ipython3",
   "version": "3.7.6"
  }
 },
 "nbformat": 4,
 "nbformat_minor": 5
}
