{
 "cells": [
  {
   "cell_type": "code",
   "execution_count": null,
   "metadata": {},
   "outputs": [],
   "source": [
    "import json\n",
    "import pickle\n",
    "import os.path\n",
    "import time\n",
    "import csv\n",
    "import random\n",
    "import datetime\n",
    "import sys\n",
    "import pymongo\n",
    "from pymongo import MongoClient\n",
    "from tqdm import tqdm_notebook as tqdm\n",
    "from os import path\n",
    "from pprint import pprint\n",
    "\n",
    "suspended_users = []\n",
    "normal_users = []"
   ]
  },
  {
   "cell_type": "code",
   "execution_count": null,
   "metadata": {},
   "outputs": [],
   "source": [
    "# all these are of 29th June\n",
    "# with open('../useddata/deleted_ids.txt','r') as f:\n",
    "#     for users in f:\n",
    "#         deleted_users.append(users)\n",
    "        \n",
    "with open('../data/suspended_ids.txt','r') as f:\n",
    "    for users in f:\n",
    "        suspended_users.append(users.strip())\n",
    "        \n",
    "with open('../data/normal_account_ids.txt','r') as f: #id_final is the list of all unique users.\n",
    "    for users in f:\n",
    "        normal_users.append(users.strip())"
   ]
  },
  {
   "cell_type": "code",
   "execution_count": null,
   "metadata": {
    "scrolled": true
   },
   "outputs": [],
   "source": [
    "print(len(suspended_users) , len(normal_users)) "
   ]
  },
  {
   "cell_type": "code",
   "execution_count": null,
   "metadata": {},
   "outputs": [],
   "source": [
    "# all_users = deleted_users + suspended_users + normal_users\n",
    "# print(len(all_users))"
   ]
  },
  {
   "cell_type": "code",
   "execution_count": null,
   "metadata": {},
   "outputs": [],
   "source": [
    "# all_users = [userid.strip() for userid in all_users]\n",
    "sus_ids_dic = {}\n",
    "nor_ids_dic = {}"
   ]
  },
  {
   "cell_type": "code",
   "execution_count": null,
   "metadata": {},
   "outputs": [],
   "source": [
    "# querying_mongodb for tweets by people belonging to the requisite list\n",
    "USERNAME = \"\"\n",
    "PASSWORD = \"\"\n",
    "\n",
    "# connection for storing tweets\n",
    "client = MongoClient('192.168.29.151',\n",
    "                     username=USERNAME,\n",
    "                     password=PASSWORD,\n",
    "                     authSource='elections2019',\n",
    "                     authMechanism='SCRAM-SHA-1')\n",
    "db = client.elections2019\n",
    "\n",
    "suspended_list_tweets = []\n",
    "normal_list_tweets = []\n",
    "\n",
    "i = 0\n",
    "for collection in tqdm(db.list_collection_names(), desc='collections_done'):\n",
    "    i+=1\n",
    "#     if collection != 'tweets':\n",
    "#         continue\n",
    "#     print(collection)\n",
    "#     print(db[collection].find_one())\n",
    "#     break\n",
    "    query = {}\n",
    "\n",
    "    normal_tweets = []\n",
    "    \n",
    "    projection = {}\n",
    "    projection[\"_id\"] = 0\n",
    "\n",
    "# User parameters stored\n",
    "    projection[\"user\"] = 1\n",
    "    \n",
    "# Tweet parameters stored    \n",
    "    projection[\"id_str\"] = 1\n",
    "    projection[\"quote_count\"] = 1\n",
    "    projection[\"reply_count\"] = 1\n",
    "    projection[\"retweet_count\"] = 1\n",
    "    projection[\"favorite_count\"] = 1\n",
    "    projection[\"created_at\"] = 1\n",
    "    projection[\"entities\"] = 1\n",
    "    projection[\"retweeted_status.id_str\"] = 1\n",
    "    projection[\"retweeted_status.user.id_str\"] = 1\n",
    "    projection[\"retweeted_status.full_text\"] = 1\n",
    "    projection[\"text\"] = 1\n",
    "    projection['retweeted_status.extended_tweet.full_text'] = 1\n",
    "    projection['extended_tweet.full_text'] = 1\n",
    "    projection['full_text'] = 1\n",
    "    projection['retweeted_status.text'] = 1\n",
    "     \n",
    "    cursor = db[collection].find( { \"user.id_str\": { \"$in\": suspended_users } } , projection = projection)\n",
    "    for tweets in tqdm(cursor):\n",
    "        if tweets[\"id_str\"] in sus_ids_dic:\n",
    "            continue\n",
    "        else:\n",
    "            sus_ids_dic[tweets[\"id_str\"]] = 1\n",
    "            \n",
    "        suspended_list_tweets.append(tweets)\n",
    "        if(len(suspended_list_tweets) >= 50000):\n",
    "            with open('../data/all_tweets_suspended_jan3_2021.pickle', 'ab+') as fp:\n",
    "                pickle.dump(suspended_list_tweets,fp)\n",
    "            suspended_list_tweets = []\n",
    "    print(len(suspended_list_tweets))\n",
    "    with open('../data/all_tweets_suspended_jan3_2021.pickle', 'ab+') as fp:\n",
    "        pickle.dump(suspended_list_tweets,fp)\n",
    "    \n",
    "    suspended_list_tweets = []\n",
    "    cursor.close()\n",
    "    \n",
    "    cursor = db[collection].find( { \"user.id_str\": { \"$in\": normal_users } } , projection = projection)\n",
    "    for tweets in tqdm(cursor):\n",
    "        if tweets[\"id_str\"] in nor_ids_dic:\n",
    "            continue\n",
    "        else:\n",
    "            nor_ids_dic[tweets[\"id_str\"]] = 1\n",
    "        \n",
    "        normal_list_tweets.append(tweets)\n",
    "        if(len(normal_list_tweets) >= 50000):\n",
    "            with open('../data/all_tweets_normal_jan3_2021.pickle', 'ab+') as fp:\n",
    "                pickle.dump(normal_list_tweets,fp)\n",
    "            normal_list_tweets = []\n",
    "    print(len(normal_list_tweets))\n",
    "    with open('../data/all_tweets_normal_jan3_2021.pickle', 'ab+') as fp:\n",
    "        pickle.dump(normal_list_tweets,fp)\n",
    "    \n",
    "    \n",
    "    normal_list_tweets = []\n",
    "    print(len(sus_ids_dic))\n",
    "    print(len(nor_ids_dic))\n",
    "    cursor.close()"
   ]
  },
  {
   "cell_type": "code",
   "execution_count": null,
   "metadata": {},
   "outputs": [],
   "source": [
    "print(len(sus_ids_dic))\n",
    "print(len(nor_ids_dic))"
   ]
  }
 ],
 "metadata": {
  "kernelspec": {
   "display_name": "Python 3",
   "language": "python",
   "name": "python3"
  },
  "language_info": {
   "codemirror_mode": {
    "name": "ipython",
    "version": 3
   },
   "file_extension": ".py",
   "mimetype": "text/x-python",
   "name": "python",
   "nbconvert_exporter": "python",
   "pygments_lexer": "ipython3",
   "version": "3.7.6"
  }
 },
 "nbformat": 4,
 "nbformat_minor": 4
}
