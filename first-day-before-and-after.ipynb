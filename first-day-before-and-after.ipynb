{
 "cells": [
  {
   "cell_type": "code",
   "execution_count": null,
   "id": "racial-pearl",
   "metadata": {},
   "outputs": [],
   "source": [
    "import tqdm, re, pandas as pd, random, pprint\n",
    "import matplotlib.pyplot as plt\n",
    "import seaborn as sns\n",
    "import pickle as pkl\n",
    "import datetime as dt\n",
    "import pytz"
   ]
  },
  {
   "cell_type": "code",
   "execution_count": null,
   "id": "adolescent-morning",
   "metadata": {},
   "outputs": [],
   "source": [
    "def get_memory():\n",
    "    status= open('/proc/self/status').read()\n",
    "    memuse= int(re.findall('VmRSS:\\s*(\\d+)\\skB', status)[0]) / 1024 ** 2\n",
    "    print('Resident memory: %.2f GB' % memuse)"
   ]
  },
  {
   "cell_type": "code",
   "execution_count": null,
   "id": "satisfied-animation",
   "metadata": {},
   "outputs": [],
   "source": [
    "get_memory()"
   ]
  },
  {
   "cell_type": "code",
   "execution_count": null,
   "id": "promising-german",
   "metadata": {},
   "outputs": [],
   "source": [
    "def loadPickle(name):\n",
    "    return pd.read_pickle(f'../data/{name}')\n",
    "def loadTxt(name):\n",
    "    return [i.strip() for i in open(f'../data/{name}', 'r').readlines()]\n",
    "def dumpPickle(df, name):\n",
    "    df.to_pickle(f'../data/{name}')"
   ]
  },
  {
   "cell_type": "markdown",
   "id": "original-lesson",
   "metadata": {},
   "source": [
    "## Regular Users"
   ]
  },
  {
   "cell_type": "markdown",
   "id": "valuable-cameroon",
   "metadata": {},
   "source": [
    "### Tweet Level"
   ]
  },
  {
   "cell_type": "code",
   "execution_count": null,
   "id": "extended-mixture",
   "metadata": {},
   "outputs": [],
   "source": [
    "RegB= loadPickle('Regular_Before_py37.pkl')\n",
    "RegA= loadPickle('Regular_After_py37.pkl')\n",
    "regularBefore= RegB[RegB['user.id_str'].isin(RegA['user.id_str'])==True].copy()\n",
    "regularAfter= RegA[RegA['user.id_str'].isin(RegB['user.id_str'])==True].copy()\n",
    "regularBefore['typeOfUser']= 'restoredBefore'\n",
    "regularAfter['typeOfUser']= 'restoredAfter'\n",
    "regularBefore= regularBefore[['user.id_str', 'created_at']].copy()\n",
    "regularAfter= regularAfter[['user.id_str', 'created_at']].copy()\n",
    "RegA, RegB= None, None"
   ]
  },
  {
   "cell_type": "code",
   "execution_count": null,
   "id": "current-capture",
   "metadata": {},
   "outputs": [],
   "source": [
    "regular= pd.concat([regularBefore, regularAfter], ignore_index= True)\n",
    "regularAfter, regularBefore= None, None"
   ]
  },
  {
   "cell_type": "code",
   "execution_count": null,
   "id": "executed-tamil",
   "metadata": {},
   "outputs": [],
   "source": [
    "regular['created_at']= pd.to_datetime(regular['created_at']).dt.tz_convert('Asia/Kolkata')\n",
    "group_regular= regular.groupby('user.id_str')\n",
    "fig= plt.figure()\n",
    "fig.set_size_inches(12, 6)\n",
    "ax= fig.add_subplot(1, 1, 1)\n",
    "plt.xlabel('Date')\n",
    "plt.ylabel('Number of Tweets')\n",
    "\n",
    "for user_id, group in group_regular:\n",
    "    \n",
    "    user_dict= dict(group['created_at'].dt.date.value_counts())\n",
    "    T= {}\n",
    "    for j in user_dict:\n",
    "        if user_dict[j]<300:\n",
    "            T[j]= user_dict[j]\n",
    "    \n",
    "    x_0, y_0= [], []\n",
    "    for i in {k: v for k, v in sorted(T.items(), key=lambda item: item[0])}:\n",
    "        x_0.append(i)\n",
    "        y_0.append(user_dict[i])\n",
    "    \n",
    "    plt.plot(x_0, y_0, c= (\"#\"+''.join([random.choice('0123456789ABCDEF') for j in range(6)])))\n",
    "\n",
    "plt.show()"
   ]
  },
  {
   "cell_type": "code",
   "execution_count": null,
   "id": "plastic-flash",
   "metadata": {},
   "outputs": [],
   "source": [
    "def nearestDates(items, pivot):\n",
    "    D= [10**7, 10**7]\n",
    "    dates= [None, None]\n",
    "    for i in items:\n",
    "        x= pivot-i\n",
    "        # print(i, x.days)\n",
    "        if x.days>0:\n",
    "            if D[0]>x.days:\n",
    "                dates[0]= i \n",
    "        elif x.days<0:\n",
    "            if D[1]>abs(x.days):\n",
    "                dates[1]= i\n",
    "        else:\n",
    "            return [pivot, pivot]\n",
    "    return dates"
   ]
  },
  {
   "cell_type": "code",
   "execution_count": null,
   "id": "statutory-advance",
   "metadata": {},
   "outputs": [],
   "source": [
    "globalArr= {'before': [], 'after': []}\n",
    "for user_id, group in group_regular:\n",
    "    df= group # for each user tweets\n",
    "    temp= df['created_at'].dt.tz_convert('Asia/Kolkata')\n",
    "    piv= dt.datetime(2019, 6, 28, tzinfo= pytz.timezone('Asia/Kolkata'))\n",
    "    div= nearestDates(temp, piv)\n",
    "    globalArr['before'].append(div[0])\n",
    "    globalArr['after'].append(div[1])\n",
    "globalArr= pd.DataFrame.from_dict(globalArr)"
   ]
  },
  {
   "cell_type": "code",
   "execution_count": null,
   "id": "micro-genre",
   "metadata": {},
   "outputs": [],
   "source": [
    "globalArr['Y']= 10"
   ]
  },
  {
   "cell_type": "code",
   "execution_count": null,
   "id": "level-mayor",
   "metadata": {},
   "outputs": [],
   "source": [
    "globalArr.plot(kind= 'scatter', x= ['before', 'after'], y= ['Y', 'Y'], figsize=(10,5), grid=True, c= [\"#\"+''.join([random.choice('0123456789ABCDEF') for j in range(6)]) for i in range(894)]*2)"
   ]
  },
  {
   "cell_type": "code",
   "execution_count": null,
   "id": "structured-generation",
   "metadata": {},
   "outputs": [],
   "source": [
    "temp= temp_cdf.get_lines()[0].get_data()\n",
    "x_temp, y_temp= list(temp[0]), list(temp[1])\n",
    "temp= temp_cdf.get_lines()[1].get_data()\n",
    "x_temp_1, y_temp_1= list(temp[0]), list(temp[1])\n",
    "plt.plot(x_temp_1, y_temp_1, label= \"Regular Before\", c= \"#6B7280\")\n",
    "plt.plot(x_temp, y_temp, label= \"Regular After\", c= \"#374151\")\n",
    "plt.ylim([0, 1])\n",
    "plt.xscale('log', base= 10)\n",
    "plt.xlabel('Favourite Count')\n",
    "plt.ylabel('Proportion')\n",
    "plt.legend()\n",
    "plt.show()"
   ]
  },
  {
   "cell_type": "markdown",
   "id": "polar-arbor",
   "metadata": {},
   "source": [
    "## Restored Users "
   ]
  },
  {
   "cell_type": "markdown",
   "id": "interim-ceiling",
   "metadata": {},
   "source": [
    "### Retweet and Favourite Count - Tweet Level"
   ]
  },
  {
   "cell_type": "code",
   "execution_count": null,
   "id": "velvet-character",
   "metadata": {},
   "outputs": [],
   "source": [
    "ResB= loadPickle('Restored_Before_py37.pkl')\n",
    "ResA= loadPickle('Restored_After_py37.pkl')\n",
    "restoredBefore= ResB[ResB['user.id_str'].isin(ResA['user.id_str'])==True].copy()\n",
    "restoredAfter= ResA[ResA['user.id_str'].isin(ResB['user.id_str'])==True].copy()\n",
    "restoredBefore['typeOfUser']= 'restoredBefore'\n",
    "restoredAfter['typeOfUser']= 'restoredAfter'\n",
    "restoredBefore= restoredBefore[['user.id_str', 'created_at']].copy()\n",
    "restoredAfter= restoredAfter[['user.id_str', 'created_at']].copy()\n",
    "ResA, ResB= None, None"
   ]
  },
  {
   "cell_type": "code",
   "execution_count": null,
   "id": "productive-profile",
   "metadata": {},
   "outputs": [],
   "source": [
    "restored= pd.concat([restoredBefore, restoredAfter], ignore_index= True)\n",
    "restoredBefore, restoredAfter= None, None"
   ]
  },
  {
   "cell_type": "code",
   "execution_count": null,
   "id": "related-necessity",
   "metadata": {},
   "outputs": [],
   "source": [
    "restored['created_at']= pd.to_datetime(restored['created_at']).dt.tz_convert('Asia/Kolkata')\n",
    "group_restored= restored.groupby('user.id_str')\n",
    "fig= plt.figure()\n",
    "fig.set_size_inches(12, 6)\n",
    "ax= fig.add_subplot(1, 1, 1)\n",
    "plt.xlabel('Date')\n",
    "plt.ylabel('Number of Tweets')\n",
    "\n",
    "for user_id, group in group_restored:\n",
    "    \n",
    "    user_dict= dict(group['created_at'].dt.date.value_counts())\n",
    "    T= {}\n",
    "    for j in user_dict:\n",
    "        if user_dict[j]<300:\n",
    "            T[j]= user_dict[j]\n",
    "    \n",
    "    x_0, y_0= [], []\n",
    "    for i in {k: v for k, v in sorted(T.items(), key=lambda item: item[0])}:\n",
    "        x_0.append(i)\n",
    "        y_0.append(user_dict[i])\n",
    "    \n",
    "    plt.plot(x_0, y_0, c= (\"#\"+''.join([random.choice('0123456789ABCDEF') for j in range(6)])))\n",
    "\n",
    "plt.show()"
   ]
  },
  {
   "cell_type": "code",
   "execution_count": null,
   "id": "stuck-analysis",
   "metadata": {},
   "outputs": [],
   "source": [
    "temp= temp_cdf.get_lines()[0].get_data()\n",
    "x_temp, y_temp= list(temp[0]), list(temp[1])\n",
    "temp= temp_cdf.get_lines()[1].get_data()\n",
    "x_temp_1, y_temp_1= list(temp[0]), list(temp[1])\n",
    "plt.plot(x_temp_1, y_temp_1, label= \"Restored Before\", c= \"#6B7280\")\n",
    "plt.plot(x_temp, y_temp, label= \"Restored After\", c= \"#374151\")\n",
    "plt.ylim([0, 1])\n",
    "plt.xscale('log', base= 10)\n",
    "plt.xlabel('Favourite Count')\n",
    "plt.ylabel('Proportion')\n",
    "plt.legend()\n",
    "plt.show()"
   ]
  }
 ],
 "metadata": {
  "kernelspec": {
   "display_name": "Python 3",
   "language": "python",
   "name": "python3"
  },
  "language_info": {
   "codemirror_mode": {
    "name": "ipython",
    "version": 3
   },
   "file_extension": ".py",
   "mimetype": "text/x-python",
   "name": "python",
   "nbconvert_exporter": "python",
   "pygments_lexer": "ipython3",
   "version": "3.7.6"
  }
 },
 "nbformat": 4,
 "nbformat_minor": 5
}
