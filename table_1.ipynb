{
 "cells": [
  {
   "cell_type": "code",
   "execution_count": null,
   "id": "casual-maine",
   "metadata": {},
   "outputs": [],
   "source": [
    "import tqdm\n",
    "import pandas as pd\n",
    "import pickle as pkl"
   ]
  },
  {
   "cell_type": "code",
   "execution_count": null,
   "id": "exterior-screen",
   "metadata": {},
   "outputs": [],
   "source": [
    "def loadPickle(name):\n",
    "    return pd.read_pickle(f'../data/{name}')\n",
    "def loadTxt(name):\n",
    "    return [i.strip() for i in open(f'../data/{name}', 'r').readlines()]\n",
    "def dumpPickle(df, name):\n",
    "    df.to_pickle(f'../data/{name}')"
   ]
  },
  {
   "cell_type": "code",
   "execution_count": null,
   "id": "possible-singles",
   "metadata": {},
   "outputs": [],
   "source": [
    "restoredUsersMap= {}\n",
    "for i in loadTxt('unsuspended_8_Oct.txt'):\n",
    "    restoredUsersMap[i]= 1"
   ]
  },
  {
   "cell_type": "code",
   "execution_count": null,
   "id": "excess-market",
   "metadata": {},
   "outputs": [],
   "source": [
    "with open(f'../data/all_tweets_suspended_jan3_2021.pickle', 'rb') as f:\n",
    "    try:\n",
    "        while True:\n",
    "            temp= pkl.load(f)\n",
    "            for i in tqdm.tqdm(temp):\n",
    "                user_id= i['user']['id_str']\n",
    "                if restoredUsersMap.get(user_id):\n",
    "                    restoredUsersMap[user_id]= i['user']['screen_name']\n",
    "    except EOFError:\n",
    "        pass"
   ]
  },
  {
   "cell_type": "code",
   "execution_count": null,
   "id": "given-scotland",
   "metadata": {},
   "outputs": [],
   "source": [
    "file1= open(\"./restoredUsersMap.txt\", \"w+\")\n",
    "file1.writelines([f'{restoredUsersMap[i]}\\n' for i in restoredUsersMap])\n",
    "file1.close()"
   ]
  },
  {
   "cell_type": "code",
   "execution_count": null,
   "id": "upset-thinking",
   "metadata": {},
   "outputs": [],
   "source": [
    "def getStats(df):\n",
    "    print('Number of Users, Number of Tweets')\n",
    "    print(len(df['user.id_str'].unique()), len(df.index))"
   ]
  },
  {
   "cell_type": "code",
   "execution_count": null,
   "id": "sapphire-lambda",
   "metadata": {},
   "outputs": [],
   "source": [
    "def getPickleLoaderStats(pklFile):\n",
    "    global totalNormal, usersNormal\n",
    "    try:\n",
    "        while True:\n",
    "            temp= pkl.load(pklFile)\n",
    "            for i in tqdm.tqdm(temp):\n",
    "                usersNormal.add(i['user']['id_str'])\n",
    "            totalNormal+= len(temp)\n",
    "    except EOFError:\n",
    "        pass"
   ]
  },
  {
   "cell_type": "code",
   "execution_count": null,
   "id": "operational-bolivia",
   "metadata": {},
   "outputs": [],
   "source": [
    "def getPickleLoaderStatsSuspended(pklFile, listUsers):\n",
    "    global totalSuspended, usersSuspended, totalRestored, usersRestored\n",
    "    try:\n",
    "        while True:\n",
    "            temp= pkl.load(pklFile)\n",
    "            for i in tqdm.tqdm(temp):\n",
    "                user_id= i['user']['id_str']\n",
    "                if  user_id in listUsers:\n",
    "                    usersRestored.add(user_id)\n",
    "                    totalRestored+= 1\n",
    "                else:\n",
    "                    usersSuspended.add(user_id)\n",
    "                    totalSuspended+= 1\n",
    "    except EOFError:\n",
    "        pass"
   ]
  },
  {
   "cell_type": "code",
   "execution_count": null,
   "id": "hungarian-salvation",
   "metadata": {},
   "outputs": [],
   "source": [
    "df= pd.DataFrame(loadPickle('Regular_After_py37.pkl'))\n",
    "df2= pd.DataFrame(loadPickle('Regular_Before_py37.pkl'))\n",
    "df2= df2[df2['user.id_str'].isin(df['user.id_str'])].copy()\n",
    "df= df[df['user.id_str'].isin(df2['user.id_str'])].copy()"
   ]
  },
  {
   "cell_type": "code",
   "execution_count": null,
   "id": "unnecessary-intermediate",
   "metadata": {},
   "outputs": [],
   "source": [
    "regularTimeline= pd.concat([df, df2], ignore_index= True)\n",
    "getStats(regularTimeline)"
   ]
  },
  {
   "cell_type": "code",
   "execution_count": null,
   "id": "harmful-rainbow",
   "metadata": {},
   "outputs": [],
   "source": [
    "regularList= set(list(regularTimeline['user.id_str'].unique()))\n",
    "df, df2, regularTimeline= None, None, None"
   ]
  },
  {
   "cell_type": "code",
   "execution_count": null,
   "id": "random-looking",
   "metadata": {},
   "outputs": [],
   "source": [
    "totalRegularBeforeElectionForAfter= {}"
   ]
  },
  {
   "cell_type": "code",
   "execution_count": null,
   "id": "chubby-bicycle",
   "metadata": {},
   "outputs": [],
   "source": [
    "with open(f'../data/all_tweets_normal_jan3_2021.pickle', 'rb') as f:\n",
    "    try:\n",
    "        while True:\n",
    "            temp= pkl.load(f)\n",
    "            for i in tqdm.tqdm(temp):\n",
    "                user_id= i['user']['id_str']\n",
    "                if user_id in regularList:\n",
    "                    if totalRegularBeforeElectionForAfter.get(user_id):\n",
    "                        totalRegularBeforeElectionForAfter[user_id]+= 1\n",
    "                    else:\n",
    "                        totalRegularBeforeElectionForAfter[user_id]= 1\n",
    "    except EOFError:\n",
    "        pass"
   ]
  },
  {
   "cell_type": "code",
   "execution_count": null,
   "id": "dressed-accused",
   "metadata": {},
   "outputs": [],
   "source": [
    "sum([totalRegularBeforeElectionForAfter[i] for i in totalRegularBeforeElectionForAfter])"
   ]
  },
  {
   "cell_type": "code",
   "execution_count": null,
   "id": "crude-clark",
   "metadata": {},
   "outputs": [],
   "source": [
    "df= pd.DataFrame(loadPickle('Restored_After_py37.pkl'))\n",
    "df2= pd.DataFrame(loadPickle('Restored_Before_py37.pkl'))\n",
    "df2= df2[df2['user.id_str'].isin(df['user.id_str'])].copy()\n",
    "df= df[df['user.id_str'].isin(df2['user.id_str'])].copy()"
   ]
  },
  {
   "cell_type": "code",
   "execution_count": null,
   "id": "occupational-gibraltar",
   "metadata": {},
   "outputs": [],
   "source": [
    "restoredTimeline= pd.concat([df, df2], ignore_index= True)\n",
    "getStats(restoredTimeline)"
   ]
  },
  {
   "cell_type": "code",
   "execution_count": null,
   "id": "israeli-brick",
   "metadata": {},
   "outputs": [],
   "source": [
    "restoredList= set(list(restoredTimeline['user.id_str'].unique()))\n",
    "df, df2, restoredTimeline= None, None, None"
   ]
  },
  {
   "cell_type": "code",
   "execution_count": null,
   "id": "parallel-dealer",
   "metadata": {},
   "outputs": [],
   "source": [
    "totalRestoredBeforeElectionForAfter= {}"
   ]
  },
  {
   "cell_type": "code",
   "execution_count": null,
   "id": "labeled-supply",
   "metadata": {},
   "outputs": [],
   "source": [
    "with open(f'../data/all_tweets_suspended_jan3_2021.pickle', 'rb') as f:\n",
    "    try:\n",
    "        while True:\n",
    "            temp= pkl.load(f)\n",
    "            for i in tqdm.tqdm(temp):\n",
    "                user_id= i['user']['id_str']\n",
    "                if user_id in restoredList:\n",
    "                    if totalRestoredBeforeElectionForAfter.get(user_id):\n",
    "                        totalRestoredBeforeElectionForAfter[user_id]+= 1\n",
    "                    else:\n",
    "                        totalRestoredBeforeElectionForAfter[user_id]= 1\n",
    "    except EOFError:\n",
    "        pass"
   ]
  },
  {
   "cell_type": "code",
   "execution_count": null,
   "id": "sporting-airplane",
   "metadata": {},
   "outputs": [],
   "source": [
    "sum([totalRestoredBeforeElectionForAfter[i] for i in totalRestoredBeforeElectionForAfter])"
   ]
  },
  {
   "cell_type": "code",
   "execution_count": null,
   "id": "radical-upper",
   "metadata": {},
   "outputs": [],
   "source": [
    "totalNormal, usersNormal= 0, set()\n",
    "with open(f'../data/all_tweets_normal_jan3_2021.pickle', 'rb') as f:\n",
    "    getPickleLoaderStats(f)\n",
    "print(totalNormal, len(usersNormal))"
   ]
  },
  {
   "cell_type": "code",
   "execution_count": null,
   "id": "textile-insertion",
   "metadata": {},
   "outputs": [],
   "source": [
    "totalSuspended, totalRestored, usersSuspended, usersRestored= 0, 0, set(), set()\n",
    "with open(f'../data/all_tweets_suspended_jan3_2021.pickle', 'rb') as f:\n",
    "    getPickleLoaderStatsSuspended(f, loadTxt('unsuspended_8_Oct.txt'))\n",
    "print(totalSuspended, len(usersSuspended), totalRestored, len(usersRestored))"
   ]
  }
 ],
 "metadata": {
  "kernelspec": {
   "display_name": "Python 3",
   "language": "python",
   "name": "python3"
  },
  "language_info": {
   "codemirror_mode": {
    "name": "ipython",
    "version": 3
   },
   "file_extension": ".py",
   "mimetype": "text/x-python",
   "name": "python",
   "nbconvert_exporter": "python",
   "pygments_lexer": "ipython3",
   "version": "3.7.6"
  }
 },
 "nbformat": 4,
 "nbformat_minor": 5
}
