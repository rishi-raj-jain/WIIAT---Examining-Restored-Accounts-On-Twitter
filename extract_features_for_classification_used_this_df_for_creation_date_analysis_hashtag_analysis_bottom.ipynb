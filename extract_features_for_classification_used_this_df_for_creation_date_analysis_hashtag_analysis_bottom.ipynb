{
 "cells": [
  {
   "cell_type": "code",
   "execution_count": null,
   "metadata": {},
   "outputs": [],
   "source": [
    "import csv\n",
    "import pandas as pd\n",
    "from tqdm import tqdm_notebook as tqdm\n",
    "import os\n",
    "import emoji\n",
    "import pickle"
   ]
  },
  {
   "cell_type": "code",
   "execution_count": null,
   "metadata": {},
   "outputs": [],
   "source": [
    "# Load all the data in a Dataframe\n",
    "def load_df(rootdir):\n",
    "    tweets = []\n",
    "    count = 0\n",
    "    cols = []\n",
    "    for subdir, dirs, files in os.walk(rootdir):\n",
    "        for file in tqdm(files):\n",
    "            count += 1\n",
    "            filename = subdir + os.sep + file\n",
    "            with open(filename,'r',encoding=\"utf8\") as f:\n",
    "                data = csv.reader(f)\n",
    "                for row in data:\n",
    "                    if len(row) < 12:\n",
    "                        continue\n",
    "                    if row[11] == 'tweet_text':\n",
    "                        cols = row\n",
    "                        continue\n",
    "                    tweets.append(row)\n",
    "    df = pd.DataFrame(tweets, columns=cols)\n",
    "    return df\n",
    "\n",
    "tw = load_df('deleted_accounts')"
   ]
  },
  {
   "cell_type": "code",
   "execution_count": null,
   "metadata": {
    "collapsed": true
   },
   "outputs": [],
   "source": [
    "pd.set_option('display.max_colwidth', -1)\n",
    "tw[tw.name=='Divya Spandana/Ramya']"
   ]
  },
  {
   "cell_type": "code",
   "execution_count": null,
   "metadata": {},
   "outputs": [],
   "source": [
    "\"\"\"[days since account creation, number of followers, number of friends (same as followings), number of favorites,\n",
    "number of tweets, friend-to-follow ratio, name length in chars, bio in chars, screen name length in chars, \n",
    "screen name length in words, bio length words, avg. number of tweets per hour]\"\"\""
   ]
  },
  {
   "cell_type": "code",
   "execution_count": null,
   "metadata": {
    "scrolled": true
   },
   "outputs": [],
   "source": [
    "#extract average tweets per hour\n",
    "\"\"\"['account_id', 'followers', 'friends', 'favourites', 'account_creation', 'is_verified', 'name', 'screen_name', \n",
    "'description', 'tweet_id', 'tweet_creation', 'tweet_text', 'is_RT']\"\"\"\n",
    "def extract_profile_features(root_dir):\n",
    "    features = {} \n",
    "    ctime = pd.Timestamp.now(tz='UTC')\n",
    "    for subdir, dirs, files in os.walk(rootdir):\n",
    "        for file in tqdm(files):\n",
    "            filename = subdir + os.sep + file\n",
    "            with open(filename,'r')as f:\n",
    "                data = csv.reader(f)\n",
    "                r = 0\n",
    "                last_tweet = 0\n",
    "                cur_hr = 1.0\n",
    "                avg_list = [] \n",
    "                userid = 0\n",
    "                usr_features = {}\n",
    "                for row in data:\n",
    "                    r+=1\n",
    "                    if r == 1:\n",
    "                        continue                     \n",
    "                    #first tweet (the latest)\n",
    "                    try:\n",
    "                        otime = pd.to_datetime(row[10])\n",
    "                        cur_time = (ctime-otime).total_seconds()\n",
    "                        if abs(cur_time-last_tweet) <= 3600:\n",
    "                            cur_hr += 1.0\n",
    "                        else:\n",
    "                            last_tweet = cur_time\n",
    "                            avg_list.append(cur_hr)\n",
    "                            cur_hr = 1.0\n",
    "                        if r == 2:\n",
    "                            userid = row[0]\n",
    "                            usr_features['followers'] = row[1]\n",
    "                            usr_features['time_since_creation'] = (ctime - pd.to_datetime(row[4])).total_seconds()\n",
    "                            usr_features['friends'] = row[2]\n",
    "                            usr_features['favourites'] = row[3]\n",
    "                            usr_features['friend_to_follow'] = float(row[2])/(float(row[1])+1)\n",
    "                            usr_features['name_len'] = len(row[6])\n",
    "                            usr_features['bio_len'] = len(row[8])\n",
    "                            usr_features['scr_len'] = len(row[7])\n",
    "                            usr_features['scr_len_words'] = len(row[7].strip(' ').split(' '))\n",
    "                            usr_features['bio_len_words'] = len(row[8].strip(' ').split(' '))\n",
    "                    except:\n",
    "                        print(row)\n",
    "                        print(file)\n",
    "\n",
    "\n",
    "                usr_features['no_of_tweets'] = r - 1\n",
    "                if len(avg_list) == 0:\n",
    "                    avg_list.append(0)\n",
    "                usr_features['avg_tweets'] = sum(avg_list)/(len(avg_list))\n",
    "                features[userid] = usr_features\n",
    "    return features\n",
    "    \n"
   ]
  },
  {
   "cell_type": "code",
   "execution_count": null,
   "metadata": {
    "collapsed": true
   },
   "outputs": [],
   "source": [
    "profile_features = extract_profile_features('/Deleted_Accounts/deleted_accounts/')"
   ]
  },
  {
   "cell_type": "code",
   "execution_count": null,
   "metadata": {},
   "outputs": [],
   "source": [
    "#extract syntactic features\n",
    "#  find emojis [i for i in x.split() if unicode(i, \"utf-8\") in emoji.UNICODE_EMOJI]"
   ]
  },
  {
   "cell_type": "code",
   "execution_count": null,
   "metadata": {},
   "outputs": [],
   "source": [
    "rootdir = '/Deleted_Accounts/deleted_accounts/'\n",
    "features = [] \n",
    "ctime = pd.Timestamp.now(tz='UTC')\n",
    "for subdir, dirs, files in os.walk(rootdir):\n",
    "    for file in tqdm(files):\n",
    "        filename = subdir + os.sep + file\n",
    "        with open(filename,'r')as f:\n",
    "            data = csv.reader(f)\n",
    "            for row in data:\n",
    "                try:\n",
    "                    if ' hack ' in row[-2] or ' hacked ' in row[-2]:\n",
    "                        if 'EVM' not in row[-2]:\n",
    "                            features.append(row[-2])\n",
    "                except:\n",
    "                    pass"
   ]
  },
  {
   "cell_type": "code",
   "execution_count": null,
   "metadata": {
    "collapsed": true
   },
   "outputs": [],
   "source": [
    "features"
   ]
  },
  {
   "cell_type": "code",
   "execution_count": null,
   "metadata": {},
   "outputs": [],
   "source": [
    "rootdir = 'normal_accounts'\n",
    "count = 0\n",
    "tweets = list()\n",
    "\n",
    "for subdir, dirs, files in os.walk(rootdir):\n",
    "    for file in files:\n",
    "        count += 1\n",
    "        filename = subdir + os.sep + file\n",
    "        with open(filename,'r',encoding=\"utf8\") as f:\n",
    "            print(filename)\n",
    "            data = csv.reader(f)\n",
    "            for row in data:\n",
    "                if len(row) < 12:\n",
    "                    continue\n",
    "                tweets.append(row[11])\n",
    "                "
   ]
  },
  {
   "cell_type": "code",
   "execution_count": null,
   "metadata": {
    "collapsed": true
   },
   "outputs": [],
   "source": [
    "df = pd.DataFrame(tweets, columns=['tweet_text'])  \n",
    "df.to_pickle('deleted_tweets.pickle')"
   ]
  },
  {
   "cell_type": "code",
   "execution_count": null,
   "metadata": {},
   "outputs": [],
   "source": [
    "from nltk.corpus import words\n",
    "from nltk.corpus import wordnet "
   ]
  },
  {
   "cell_type": "code",
   "execution_count": null,
   "metadata": {},
   "outputs": [],
   "source": [
    "wrd = 'Modi'\n",
    "wrd in words.words() or wrd in wordnet.words()"
   ]
  },
  {
   "cell_type": "code",
   "execution_count": null,
   "metadata": {},
   "outputs": [],
   "source": [
    "import re\n",
    "def remove_links(tweet):\n",
    "    \n",
    "    tweet = re.sub(r'http\\S+', '', tweet) \n",
    "    tweet = re.sub(r'bit.ly/\\S+', '', tweet)\n",
    "    tweet = tweet.strip('[link]') \n",
    "    return tweet\n",
    "\n",
    "def remove_users(tweet):\n",
    "    \n",
    "    tweet = re.sub('(RT\\s[A-Za-z]+[A-Za-z0-9-_]+)', '', tweet) \n",
    "    tweet = re.sub('(@[A-Za-z]+[A-Za-z0-9-_]+)', '', tweet) \n",
    "    return tweet\n",
    "\n",
    "def clean_tweet(tweet, bigrams=False):\n",
    "    \n",
    "    tweet = remove_users(tweet)\n",
    "    tweet = remove_links(tweet)\n",
    "    tweet = tweet.lower() \n",
    "    tweet = re.sub('['+my_punctuation + ']+', ' ', tweet)\n",
    "    tweet = re.sub('\\s+', ' ', tweet) \n",
    "    tweet = re.sub('([0-9]+)', '', tweet) \n",
    "    tweet_token_list = [word for word in tweet.split(' ')\n",
    "                            if word not in my_stopwords] \n",
    "\n",
    "    tweet_token_list = [word_rooter(word) if '#' not in word else word\n",
    "                        for word in tweet_token_list] \n",
    "    if bigrams:\n",
    "        tweet_token_list = tweet_token_list+[tweet_token_list[i]+'_'+tweet_token_list[i+1]\n",
    "                                            for i in range(len(tweet_token_list)-1)]\n",
    "    tweet = ' '.join(tweet_token_list)\n",
    "    return tweet \n",
    "\n",
    "def find_hashtags(tweet):    \n",
    "    return re.findall('(#[A-Za-z]+[A-Za-z0-9-_]+)', tweet)  \n"
   ]
  },
  {
   "cell_type": "code",
   "execution_count": null,
   "metadata": {},
   "outputs": [],
   "source": [
    "df = pd.read_pickle('deleted_tweets.pickle')"
   ]
  },
  {
   "cell_type": "code",
   "execution_count": null,
   "metadata": {},
   "outputs": [],
   "source": []
  },
  {
   "cell_type": "code",
   "execution_count": null,
   "metadata": {},
   "outputs": [],
   "source": [
    "my_stopwords = nltk.corpus.stopwords.words('english')\n",
    "swords = open('stopwords.txt','r').read().split('\\n')\n",
    "for word in swords:\n",
    "    if word not in my_stopwords:\n",
    "        my_stopwords.append(word)\n",
    "word_rooter = nltk.stem.snowball.PorterStemmer(ignore_stopwords=False).stem\n",
    "my_punctuation = '!\"$%&\\'()*+,-./:;<=>?[\\\\]^_`{|}~•@'\n",
    "df['clean_tweet'] = df.tweet_text.apply(clean_tweet)\n",
    "df['clean_text'].to_pickle('suspended_clean_tweets.pickle')"
   ]
  },
  {
   "cell_type": "code",
   "execution_count": null,
   "metadata": {
    "scrolled": true
   },
   "outputs": [],
   "source": [
    "hinglish = []\n",
    "threshold = 0.5\n",
    "total = 0\n",
    "for i in tqdm(range(1,1000)):\n",
    "    clean = clean_tweet(df['tweet_text'][i])\n",
    "    if clean == 'tweet_text':\n",
    "        continue\n",
    "    total += 1\n",
    "    tokens = re.split(r'[^A-Za-z0-9]+',clean)\n",
    "    coun = 0\n",
    "    for tok in tokens:\n",
    "        if tok not in words.words() and tok not in wordnet.words():\n",
    "            coun += 1\n",
    "        if float(coun)/float(len(tokens)) > threshold:\n",
    "            break\n",
    "    if float(coun)/float(len(tokens)) <= threshold:\n",
    "        hinglish.append(df['tweet_text'][i])\n",
    "print(str(len(hinglish))+\"/\"+str(total))\n",
    "\n",
    "with open('hinglish.txt','w+') as fil:\n",
    "    fil.write(str(len(hinglish)))"
   ]
  },
  {
   "cell_type": "code",
   "execution_count": null,
   "metadata": {},
   "outputs": [],
   "source": [
    "hinglish"
   ]
  },
  {
   "cell_type": "code",
   "execution_count": null,
   "metadata": {
    "collapsed": true
   },
   "outputs": [],
   "source": [
    "import nltk\n",
    "nltk.download('wordnet')"
   ]
  },
  {
   "cell_type": "code",
   "execution_count": null,
   "metadata": {},
   "outputs": [],
   "source": [
    "from collections import defaultdict\n",
    "hash_array = {}\n",
    "with open('top_hashtags_deleted.pkl','rb+') as fil:\n",
    "    hash_array = pickle.load(fil)"
   ]
  },
  {
   "cell_type": "code",
   "execution_count": null,
   "metadata": {},
   "outputs": [],
   "source": [
    "def find_hashtags(tweet):\n",
    "    return re.findall('(#[A-Za-z]+[A-Za-z0-9-_]+)', tweet)  \n",
    "\n",
    "freq_dict = defaultdict(lambda:0)\n",
    "total = 0\n",
    "for tweet in tweets:\n",
    "    if tweet == 'tweet_text':\n",
    "        continue\n",
    "    total += 1\n",
    "    hashes = find_hashtags(tweet)\n",
    "    for tag in hashes:\n",
    "        if tag in hash_array:\n",
    "            freq_dict[tag] += 1"
   ]
  },
  {
   "cell_type": "code",
   "execution_count": null,
   "metadata": {},
   "outputs": [],
   "source": [
    "# sorted(freq_dict,key=freq_dict.get)\n",
    "for keys in freq_dict:\n",
    "    print(keys)"
   ]
  },
  {
   "cell_type": "code",
   "execution_count": null,
   "metadata": {},
   "outputs": [],
   "source": [
    "for key in sorted(freq_dict,key=freq_dict.get,reverse=True):\n",
    "    print(key,freq_dict[key],round(float(freq_dict[key])/dif2,4))"
   ]
  },
  {
   "cell_type": "code",
   "execution_count": null,
   "metadata": {},
   "outputs": [],
   "source": [
    "hash_array"
   ]
  },
  {
   "cell_type": "code",
   "execution_count": null,
   "metadata": {},
   "outputs": [],
   "source": [
    "import matplotlib.pyplot as plt\n",
    "plt.bar(hash_array.keys(),hash_array.values())\n",
    "plt.bar(freq_dict.keys(),[val/total for val in freq_dict.values()])\n",
    "plt.show()"
   ]
  },
  {
   "cell_type": "code",
   "execution_count": null,
   "metadata": {},
   "outputs": [],
   "source": [
    "freq_dict"
   ]
  },
  {
   "cell_type": "code",
   "execution_count": null,
   "metadata": {},
   "outputs": [],
   "source": [
    "hash_array"
   ]
  },
  {
   "cell_type": "code",
   "execution_count": null,
   "metadata": {},
   "outputs": [],
   "source": [
    "for key in hash_array:\n",
    "    print(key,\"  \",round(hash_array[key],4),\" \",\" \",round(freq_dict[key]/dif1,4))"
   ]
  },
  {
   "cell_type": "code",
   "execution_count": null,
   "metadata": {},
   "outputs": [],
   "source": [
    "df = pd.DataFrame(columns=['Hashtag','Deleted','Normal','Difference'])\n",
    "dif1 = sum(hash_array.values())\n",
    "dif2 = sum(freq_dict.values())\n",
    "for i,key in enumerate(hash_array.keys()):\n",
    "    df.loc[i] = [key,hash_array[key]/dif1,freq_dict[key]/dif2,(hash_array[key]/dif1-freq_dict[key]/dif2)*100]"
   ]
  },
  {
   "cell_type": "code",
   "execution_count": null,
   "metadata": {},
   "outputs": [],
   "source": [
    "df.sort_values(by='Difference',ascending=False)"
   ]
  },
  {
   "cell_type": "code",
   "execution_count": null,
   "metadata": {},
   "outputs": [],
   "source": [
    "total"
   ]
  }
 ],
 "metadata": {
  "kernelspec": {
   "display_name": "Python 3",
   "language": "python",
   "name": "python3"
  },
  "language_info": {
   "codemirror_mode": {
    "name": "ipython",
    "version": 3
   },
   "file_extension": ".py",
   "mimetype": "text/x-python",
   "name": "python",
   "nbconvert_exporter": "python",
   "pygments_lexer": "ipython3",
   "version": "3.7.6"
  }
 },
 "nbformat": 4,
 "nbformat_minor": 2
}
