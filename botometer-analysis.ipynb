{
 "cells": [
  {
   "cell_type": "code",
   "execution_count": null,
   "id": "interim-fishing",
   "metadata": {},
   "outputs": [],
   "source": [
    "# !pip3 install botometer\n",
    "import tqdm\n",
    "import re\n",
    "import pandas as pd\n",
    "import random\n",
    "import pprint\n",
    "import matplotlib.pyplot as plt\n",
    "import matplotlib.dates as mdates\n",
    "import botometer\n",
    "import numpy\n",
    "import json\n",
    "import seaborn as sns\n",
    "import pickle as pkl"
   ]
  },
  {
   "cell_type": "code",
   "execution_count": null,
   "id": "precise-prospect",
   "metadata": {},
   "outputs": [],
   "source": [
    "def get_memory():\n",
    "    status= open('/proc/self/status').read()\n",
    "    memuse= int(re.findall('VmRSS:\\s*(\\d+)\\skB', status)[0]) / 1024 ** 2\n",
    "    print('Resident memory: %.2f GB' % memuse)"
   ]
  },
  {
   "cell_type": "code",
   "execution_count": null,
   "id": "freelance-slide",
   "metadata": {},
   "outputs": [],
   "source": [
    "get_memory()"
   ]
  },
  {
   "cell_type": "code",
   "execution_count": null,
   "id": "charming-hobby",
   "metadata": {},
   "outputs": [],
   "source": [
    "def loadPickle(name):\n",
    "    return pd.read_pickle(f'../data/{name}')\n",
    "def loadTxt(name):\n",
    "    return [i.strip() for i in open(f'../data/{name}', 'r').readlines()]\n",
    "def dumpPickle(df, name):\n",
    "    df.to_pickle(f'../data/{name}')"
   ]
  },
  {
   "cell_type": "code",
   "execution_count": null,
   "id": "corporate-frequency",
   "metadata": {},
   "outputs": [],
   "source": [
    "RegB= loadPickle('Regular_Before_py37.pkl')\n",
    "RegA= loadPickle('Regular_After_py37.pkl')\n",
    "regularAfter= list(set(list(RegA[RegA['user.id_str'].isin(RegB['user.id_str'])].copy()['user.id_str'])))\n",
    "RegB, RegA= None, None\n",
    "\n",
    "ResB= loadPickle('Restored_Before_py37.pkl')\n",
    "ResA= loadPickle('Restored_After_py37.pkl')\n",
    "restoredAfter= list(set(list(ResA[ResA['user.id_str'].isin(ResB['user.id_str'])==True].copy()['user.id_str'])))\n",
    "ResB, ResA= None, None"
   ]
  },
  {
   "cell_type": "code",
   "execution_count": null,
   "id": "split-restoration",
   "metadata": {},
   "outputs": [],
   "source": [
    "resultRegular, resultRestored= {}, {}"
   ]
  },
  {
   "cell_type": "code",
   "execution_count": null,
   "id": "authorized-duration",
   "metadata": {},
   "outputs": [],
   "source": [
    "remaining_users_regular= [int(i) for i in list(set(regularAfter).difference(set([str(j) for j in list(resultRegular.keys())])))]"
   ]
  },
  {
   "cell_type": "code",
   "execution_count": null,
   "id": "innovative-milton",
   "metadata": {},
   "outputs": [],
   "source": [
    "len(remaining_users_regular)"
   ]
  },
  {
   "cell_type": "code",
   "execution_count": null,
   "id": "recognized-beast",
   "metadata": {},
   "outputs": [],
   "source": [
    "rapidapi_key= \"\"\n",
    "twitter_app_auth= {}\n",
    "bom= botometer.Botometer(wait_on_ratelimit= True, rapidapi_key= rapidapi_key, **twitter_app_auth)"
   ]
  },
  {
   "cell_type": "code",
   "execution_count": null,
   "id": "accessible-polls",
   "metadata": {},
   "outputs": [],
   "source": [
    "for screen_name, result in tqdm.tqdm(bom.check_accounts_in(remaining_users_regular)):\n",
    "    resultRegular[screen_name]= result"
   ]
  },
  {
   "cell_type": "code",
   "execution_count": null,
   "id": "worst-background",
   "metadata": {},
   "outputs": [],
   "source": [
    "with open(\"bot_regular_after.json\", 'w') as fout:\n",
    "    json_dumps_str= json.dumps(resultRegular, indent= 2)\n",
    "    print(json_dumps_str, file= fout)"
   ]
  },
  {
   "cell_type": "code",
   "execution_count": null,
   "id": "contemporary-genesis",
   "metadata": {},
   "outputs": [],
   "source": [
    "remaining_users_restored= [int(i) for i in list(set(restoredAfter).difference(set([str(j) for j in list(resultRestored.keys())])))]"
   ]
  },
  {
   "cell_type": "code",
   "execution_count": null,
   "id": "extreme-resort",
   "metadata": {},
   "outputs": [],
   "source": [
    "len(remaining_users_restored)"
   ]
  },
  {
   "cell_type": "code",
   "execution_count": null,
   "id": "encouraging-blind",
   "metadata": {},
   "outputs": [],
   "source": [
    "for screen_name, result in tqdm.tqdm(bom.check_accounts_in(remaining_users_restored)):\n",
    "    resultRestored[screen_name]= result"
   ]
  },
  {
   "cell_type": "code",
   "execution_count": null,
   "id": "persistent-noise",
   "metadata": {},
   "outputs": [],
   "source": [
    "len(resultRegular), len(resultRestored)"
   ]
  },
  {
   "cell_type": "code",
   "execution_count": null,
   "id": "harmful-joint",
   "metadata": {},
   "outputs": [],
   "source": [
    "with open(\"bot_restored_after.json\", 'w') as fout:\n",
    "    json_dumps_str= json.dumps(resultRestored, indent= 2)\n",
    "    print(json_dumps_str, file= fout)"
   ]
  },
  {
   "cell_type": "code",
   "execution_count": null,
   "id": "dutch-peripheral",
   "metadata": {},
   "outputs": [],
   "source": [
    "with open(\"bot_regular_after.json\", 'r') as fout:\n",
    "    regularAfterBot= json.load(fout)"
   ]
  },
  {
   "cell_type": "code",
   "execution_count": null,
   "id": "eastern-commonwealth",
   "metadata": {},
   "outputs": [],
   "source": [
    "with open(\"bot_restored_after.json\", 'r') as fout:\n",
    "    restoredAfterBot= json.load(fout)"
   ]
  },
  {
   "cell_type": "code",
   "execution_count": null,
   "id": "official-folks",
   "metadata": {},
   "outputs": [],
   "source": [
    "df= {'id_str': [], 'astroturf_universal': [], 'overall_universal': [], 'Users': []}"
   ]
  },
  {
   "cell_type": "code",
   "execution_count": null,
   "id": "brief-deployment",
   "metadata": {},
   "outputs": [],
   "source": [
    "for i in restoredAfterBot:\n",
    "    temp= restoredAfterBot[i]\n",
    "    if temp.get('error') is None:\n",
    "        df['id_str'].append(temp['user']['user_data']['id_str'])\n",
    "        df['overall_universal'].append(temp['cap']['universal'])\n",
    "        df['astroturf_universal'].append(temp['raw_scores']['universal']['astroturf'])\n",
    "        df['Users'].append('Regular (Timeline)')"
   ]
  },
  {
   "cell_type": "code",
   "execution_count": null,
   "id": "formed-slovenia",
   "metadata": {},
   "outputs": [],
   "source": [
    "for i in regularAfterBot:\n",
    "    temp= regularAfterBot[i]\n",
    "    if temp.get('error') is None:\n",
    "        df['id_str'].append(temp['user']['user_data']['id_str'])\n",
    "        df['overall_universal'].append(temp['cap']['universal'])\n",
    "        df['astroturf_universal'].append(temp['raw_scores']['universal']['astroturf'])\n",
    "        df['Users'].append('Restored (Timeline)')"
   ]
  },
  {
   "cell_type": "code",
   "execution_count": null,
   "id": "played-aberdeen",
   "metadata": {},
   "outputs": [],
   "source": [
    "languages_df= pd.DataFrame.from_dict(df)"
   ]
  },
  {
   "cell_type": "code",
   "execution_count": null,
   "id": "indian-example",
   "metadata": {},
   "outputs": [],
   "source": [
    "attr= 'overall_universal'\n",
    "temp_cdf= sns.ecdfplot(\n",
    "    data= languages_df.sort_values(by= attr),\n",
    "    x= attr,\n",
    "    hue= 'Users',\n",
    "    stat= 'proportion',\n",
    "    palette= [\n",
    "        \"#6B7280\",\n",
    "        \"#374151\"\n",
    "    ]\n",
    ")"
   ]
  },
  {
   "cell_type": "code",
   "execution_count": null,
   "id": "aware-carolina",
   "metadata": {},
   "outputs": [],
   "source": [
    "attr= 'astroturf_universal'\n",
    "temp_cdf= sns.ecdfplot(\n",
    "    data= languages_df.sort_values(by= attr),\n",
    "    x= attr,\n",
    "    hue= 'Users',\n",
    "    stat= 'proportion',\n",
    "    palette= [\n",
    "        \"#374151\",\n",
    "        \"#6B7280\"\n",
    "    ]\n",
    ")"
   ]
  }
 ],
 "metadata": {
  "kernelspec": {
   "display_name": "Python 3",
   "language": "python",
   "name": "python3"
  },
  "language_info": {
   "codemirror_mode": {
    "name": "ipython",
    "version": 3
   },
   "file_extension": ".py",
   "mimetype": "text/x-python",
   "name": "python",
   "nbconvert_exporter": "python",
   "pygments_lexer": "ipython3",
   "version": "3.7.6"
  }
 },
 "nbformat": 4,
 "nbformat_minor": 5
}
