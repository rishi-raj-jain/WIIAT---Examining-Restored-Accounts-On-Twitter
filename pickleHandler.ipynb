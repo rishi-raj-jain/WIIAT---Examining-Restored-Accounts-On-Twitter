{
 "cells": [
  {
   "cell_type": "code",
   "execution_count": null,
   "id": "speaking-north",
   "metadata": {},
   "outputs": [],
   "source": [
    "import pandas as pd"
   ]
  },
  {
   "cell_type": "code",
   "execution_count": null,
   "id": "developed-freeze",
   "metadata": {},
   "outputs": [],
   "source": [
    "def combinePickles(a, b, count):\n",
    "    temp= [pd.read_pickle(f'../data/{a}_{b}_{i}_py37.pkl') for i in range(count)]\n",
    "    pd.concat(temp, ignore_index=True).to_pickle(f'../data/{a}_{b}_py37.pkl')"
   ]
  },
  {
   "cell_type": "code",
   "execution_count": null,
   "id": "comic-vitamin",
   "metadata": {},
   "outputs": [],
   "source": [
    "def filterFromPkl(a, b):\n",
    "    filterColumns= ['user.id_str', 'user.screen_name', 'entities.user_mentions', 'entities.hashtags', 'user.followers_count', 'user.listed_count', 'user.friends_count', 'user.created_at', 'user.statuses_count', 'user.favourites_count', 'user.lang', 'user.following', 'created_at', 'id_str', 'retweet_count', 'full_text', 'favorite_count']\n",
    "    pd.read_pickle(f'../data/{a}_{b}_py37.pkl').filter(filterColumns).to_pickle(f'../data/{a}_{b}_filtered.pkl')"
   ]
  },
  {
   "cell_type": "code",
   "execution_count": null,
   "id": "known-drama",
   "metadata": {},
   "outputs": [],
   "source": [
    "def readPickles(a, b):\n",
    "    return pd.read_pickle(f'../data/{a}_{b}_filtered.pkl')"
   ]
  },
  {
   "cell_type": "code",
   "execution_count": null,
   "id": "ultimate-symposium",
   "metadata": {},
   "outputs": [],
   "source": [
    "for i in ['Regular', 'Restored']:\n",
    "    for j in ['After', 'Before']:\n",
    "        t= filterFromPkl(i, j)"
   ]
  },
  {
   "cell_type": "code",
   "execution_count": null,
   "id": "needed-preservation",
   "metadata": {},
   "outputs": [],
   "source": [
    "readPickles('Regular', 'Before')"
   ]
  }
 ],
 "metadata": {
  "kernelspec": {
   "display_name": "Python 3",
   "language": "python",
   "name": "python3"
  },
  "language_info": {
   "codemirror_mode": {
    "name": "ipython",
    "version": 3
   },
   "file_extension": ".py",
   "mimetype": "text/x-python",
   "name": "python",
   "nbconvert_exporter": "python",
   "pygments_lexer": "ipython3",
   "version": "3.7.6"
  }
 },
 "nbformat": 4,
 "nbformat_minor": 5
}
