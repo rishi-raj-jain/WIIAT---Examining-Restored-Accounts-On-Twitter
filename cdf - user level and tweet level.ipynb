{
 "cells": [
  {
   "cell_type": "code",
   "execution_count": null,
   "id": "racial-pearl",
   "metadata": {},
   "outputs": [],
   "source": [
    "import tqdm, re, pandas as pd, random, pprint\n",
    "import matplotlib.pyplot as plt\n",
    "import seaborn as sns\n",
    "import pickle as pkl\n",
    "from scipy.stats import mannwhitneyu\n",
    "import numpy as np"
   ]
  },
  {
   "cell_type": "code",
   "execution_count": null,
   "id": "adolescent-morning",
   "metadata": {},
   "outputs": [],
   "source": [
    "def get_memory():\n",
    "    status= open('/proc/self/status').read()\n",
    "    memuse= int(re.findall('VmRSS:\\s*(\\d+)\\skB', status)[0]) / 1024 ** 2\n",
    "    print('Resident memory: %.2f GB' % memuse)"
   ]
  },
  {
   "cell_type": "code",
   "execution_count": null,
   "id": "satisfied-animation",
   "metadata": {},
   "outputs": [],
   "source": [
    "get_memory()"
   ]
  },
  {
   "cell_type": "code",
   "execution_count": null,
   "id": "promising-german",
   "metadata": {},
   "outputs": [],
   "source": [
    "def loadPickle(name):\n",
    "    return pd.read_pickle(f'../data/{name}')\n",
    "def loadTxt(name):\n",
    "    return [i.strip() for i in open(f'../data/{name}', 'r').readlines()]\n",
    "def dumpPickle(df, name):\n",
    "    df.to_pickle(f'../data/{name}')"
   ]
  },
  {
   "cell_type": "code",
   "execution_count": null,
   "id": "geographic-basic",
   "metadata": {},
   "outputs": [],
   "source": [
    "def getUsersLatest(df, attr):\n",
    "    tempDf= df.sort_values('created_at', ascending= False).groupby('user.id_str')\n",
    "    T= {\n",
    "        'user.id_str': [], \n",
    "        'typeOfUser': [], \n",
    "        attr: []\n",
    "       }\n",
    "    for i, group in tempDf:\n",
    "        T['user.id_str'].append(i)\n",
    "        T['typeOfUser'].append(group['typeOfUser'].iloc[0])\n",
    "        T[attr].append(group[attr].iloc[0])\n",
    "    return pd.DataFrame.from_dict(T)"
   ]
  },
  {
   "cell_type": "code",
   "execution_count": null,
   "id": "obvious-fluid",
   "metadata": {},
   "outputs": [],
   "source": []
  },
  {
   "cell_type": "markdown",
   "id": "original-lesson",
   "metadata": {},
   "source": [
    "## Regular Users"
   ]
  },
  {
   "cell_type": "markdown",
   "id": "valuable-cameroon",
   "metadata": {},
   "source": [
    "### Retweet and Favourite Count - Tweet Level"
   ]
  },
  {
   "cell_type": "code",
   "execution_count": null,
   "id": "extended-mixture",
   "metadata": {},
   "outputs": [],
   "source": [
    "RegB= loadPickle('Regular_Before_py37.pkl')\n",
    "RegA= loadPickle('Regular_After_py37.pkl')\n",
    "regularBefore= RegB[RegB['user.id_str'].isin(RegA['user.id_str'])==True].copy()\n",
    "regularAfter= RegA[RegA['user.id_str'].isin(RegB['user.id_str'])==True].copy()\n",
    "regularBefore['typeOfUser']= 'restoredBefore'\n",
    "regularAfter['typeOfUser']= 'restoredAfter'\n",
    "regularBefore= regularBefore[['user.id_str', 'typeOfUser', 'favorite_count', 'retweet_count']].copy()\n",
    "regularAfter= regularAfter[['user.id_str', 'typeOfUser', 'favorite_count', 'retweet_count']].copy()\n",
    "RegB= None\n",
    "RegA= None"
   ]
  },
  {
   "cell_type": "code",
   "execution_count": null,
   "id": "current-capture",
   "metadata": {},
   "outputs": [],
   "source": [
    "temp= pd.concat([regularBefore, regularAfter], ignore_index= True)\n",
    "attr= 'favorite_count'\n",
    "# temp= pd.concat([getUsersLatest(restoredBefore, attr), getUsersLatest(restoredAfter, attr)], ignore_index= True)\n",
    "temp_cdf= sns.ecdfplot(\n",
    "    data= temp[temp[attr]>=10].sort_values(by= attr),\n",
    "    x= attr,\n",
    "    hue= 'typeOfUser',\n",
    "    stat= 'proportion'\n",
    ")"
   ]
  },
  {
   "cell_type": "code",
   "execution_count": null,
   "id": "structured-generation",
   "metadata": {},
   "outputs": [],
   "source": [
    "temp= temp_cdf.get_lines()[0].get_data()\n",
    "x_temp, y_temp= list(temp[0]), list(temp[1])\n",
    "temp= temp_cdf.get_lines()[1].get_data()\n",
    "x_temp_1, y_temp_1= list(temp[0]), list(temp[1])\n",
    "plt.plot(x_temp_1, y_temp_1, label= \"Regular Before\", c= \"#6B7280\")\n",
    "plt.plot(x_temp, y_temp, label= \"Regular After\", c= \"#374151\")\n",
    "plt.ylim([0, 1])\n",
    "plt.xscale('log', base= 10)\n",
    "plt.xlabel('Favourite Count')\n",
    "plt.ylabel('Proportion')\n",
    "plt.legend()\n",
    "plt.show()"
   ]
  },
  {
   "cell_type": "code",
   "execution_count": null,
   "id": "bacterial-increase",
   "metadata": {},
   "outputs": [],
   "source": [
    "temp= pd.concat([regularBefore, regularAfter], ignore_index= True)\n",
    "attr= 'retweet_count'\n",
    "# temp= pd.concat([getUsersLatest(restoredBefore, attr), getUsersLatest(restoredAfter, attr)], ignore_index= True)\n",
    "temp_cdf= sns.ecdfplot(\n",
    "    data= temp[temp[attr]>=10].sort_values(by= attr),\n",
    "    x= attr,\n",
    "    hue= 'typeOfUser',\n",
    "    stat= 'proportion'\n",
    ")"
   ]
  },
  {
   "cell_type": "code",
   "execution_count": null,
   "id": "substantial-confusion",
   "metadata": {},
   "outputs": [],
   "source": [
    "temp= temp_cdf.get_lines()[0].get_data()\n",
    "x_temp, y_temp= list(temp[0]), list(temp[1])\n",
    "temp= temp_cdf.get_lines()[1].get_data()\n",
    "x_temp_1, y_temp_1= list(temp[0]), list(temp[1])\n",
    "plt.plot(x_temp, y_temp, label= \"Regular Before\", c= \"#6B7280\")\n",
    "plt.plot(x_temp_1, y_temp_1, label= \"Regular After\", c= \"#374151\")\n",
    "plt.ylim([0, 1])\n",
    "plt.xscale('log', base= 10)\n",
    "plt.xlabel('Retweet Count')\n",
    "plt.ylabel('Proportion')\n",
    "plt.legend()\n",
    "plt.show()"
   ]
  },
  {
   "cell_type": "markdown",
   "id": "polar-arbor",
   "metadata": {},
   "source": [
    "## Restored Users "
   ]
  },
  {
   "cell_type": "markdown",
   "id": "interim-ceiling",
   "metadata": {},
   "source": [
    "### Retweet and Favourite Count - Tweet Level"
   ]
  },
  {
   "cell_type": "code",
   "execution_count": null,
   "id": "velvet-character",
   "metadata": {},
   "outputs": [],
   "source": [
    "ResB= loadPickle('Restored_Before_py37.pkl')\n",
    "ResA= loadPickle('Restored_After_py37.pkl')\n",
    "restoredBefore= ResB[ResB['user.id_str'].isin(ResA['user.id_str'])==True].copy()\n",
    "restoredAfter= ResA[ResA['user.id_str'].isin(ResB['user.id_str'])==True].copy()\n",
    "restoredBefore['typeOfUser']= 'restoredBefore'\n",
    "restoredAfter['typeOfUser']= 'restoredAfter'\n",
    "restoredBefore= restoredBefore[['user.id_str', 'typeOfUser', 'favorite_count', 'retweet_count']].copy()\n",
    "restoredAfter= restoredAfter[['user.id_str', 'typeOfUser', 'favorite_count', 'retweet_count']].copy()\n",
    "ResB= None\n",
    "ResA= None"
   ]
  },
  {
   "cell_type": "code",
   "execution_count": null,
   "id": "productive-profile",
   "metadata": {},
   "outputs": [],
   "source": [
    "temp= pd.concat([restoredBefore, restoredAfter], ignore_index= True)\n",
    "attr= 'favorite_count'\n",
    "# temp= pd.concat([getUsersLatest(restoredBefore, attr), getUsersLatest(restoredAfter, attr)], ignore_index= True)\n",
    "temp_cdf= sns.ecdfplot(\n",
    "    data= temp[temp[attr]>=10].sort_values(by= attr),\n",
    "    x= attr,\n",
    "    hue= 'typeOfUser',\n",
    "    stat= 'proportion'\n",
    ")"
   ]
  },
  {
   "cell_type": "code",
   "execution_count": null,
   "id": "stuck-analysis",
   "metadata": {},
   "outputs": [],
   "source": [
    "temp= temp_cdf.get_lines()[0].get_data()\n",
    "x_temp, y_temp= list(temp[0]), list(temp[1])\n",
    "temp= temp_cdf.get_lines()[1].get_data()\n",
    "x_temp_1, y_temp_1= list(temp[0]), list(temp[1])\n",
    "plt.plot(x_temp_1, y_temp_1, label= \"Restored Before\", c= \"#6B7280\")\n",
    "plt.plot(x_temp, y_temp, label= \"Restored After\", c= \"#374151\")\n",
    "plt.ylim([0, 1])\n",
    "plt.xscale('log', base= 10)\n",
    "plt.xlabel('Favourite Count')\n",
    "plt.ylabel('Proportion')\n",
    "plt.legend()\n",
    "plt.show()"
   ]
  },
  {
   "cell_type": "code",
   "execution_count": null,
   "id": "serial-gnome",
   "metadata": {},
   "outputs": [],
   "source": [
    "temp= pd.concat([restoredBefore, restoredAfter], ignore_index= True)\n",
    "attr= 'retweet_count'\n",
    "# temp= pd.concat([getUsersLatest(restoredBefore, attr), getUsersLatest(restoredAfter, attr)], ignore_index= True)\n",
    "temp_cdf= sns.ecdfplot(\n",
    "    data= temp[temp[attr]>=10].sort_values(by= attr),\n",
    "    x= attr,\n",
    "    hue= 'typeOfUser',\n",
    "    stat= 'proportion'\n",
    ")"
   ]
  },
  {
   "cell_type": "code",
   "execution_count": null,
   "id": "armed-stream",
   "metadata": {},
   "outputs": [],
   "source": [
    "temp= temp_cdf.get_lines()[0].get_data()\n",
    "x_temp, y_temp= list(temp[0]), list(temp[1])\n",
    "temp= temp_cdf.get_lines()[1].get_data()\n",
    "x_temp_1, y_temp_1= list(temp[0]), list(temp[1])\n",
    "plt.plot(x_temp_1, y_temp_1, label= \"Restored Before\", c= \"#6B7280\")\n",
    "plt.plot(x_temp, y_temp, label= \"Restored After\", c= \"#374151\")\n",
    "plt.ylim([0, 1])\n",
    "plt.xscale('log', base= 10)\n",
    "plt.xlabel('Retweet Count')\n",
    "plt.ylabel('Proportion')\n",
    "plt.legend()\n",
    "plt.show()"
   ]
  },
  {
   "cell_type": "markdown",
   "id": "inappropriate-default",
   "metadata": {},
   "source": [
    "## Normal, Restored and Suspended Users"
   ]
  },
  {
   "cell_type": "code",
   "execution_count": null,
   "id": "usual-memorabilia",
   "metadata": {},
   "outputs": [],
   "source": [
    "# Normal_Data= {'user.id_str': [], 'typeOfUser': [], 'favorite_count': [], 'retweet_count': []}\n",
    "Normal_Data= {'user.id_str': [], 'typeOfUser': [], 'created_at': [], 'favourites_count': [], 'friends_count': [], 'followers_count': [], 'statuses_count': []}\n",
    "with open(f'../data/all_tweets_normal_jan3_2021.pickle', 'rb') as f:\n",
    "    try:\n",
    "        while True:\n",
    "            temp= pkl.load(f)\n",
    "            for i in tqdm.tqdm(temp):\n",
    "                Normal_Data['user.id_str'].append(i['user']['id_str'])\n",
    "                Normal_Data['typeOfUser'].append('Normal')\n",
    "#                 Normal_Data['favorite_count'].append(i['favorite_count'])\n",
    "#                 Normal_Data['retweet_count'].append(i['retweet_count'])\n",
    "                Normal_Data['created_at'].append([i['created_at']])\n",
    "                Normal_Data['favourites_count'].append(i['user']['favourites_count'])\n",
    "                Normal_Data['friends_count'].append(i['user']['friends_count'])\n",
    "                Normal_Data['followers_count'].append(i['user']['followers_count'])\n",
    "                Normal_Data['statuses_count'].append(i['user']['statuses_count'])\n",
    "    except EOFError:\n",
    "        pass"
   ]
  },
  {
   "cell_type": "code",
   "execution_count": null,
   "id": "previous-canal",
   "metadata": {},
   "outputs": [],
   "source": [
    "restoredUsersList= set()\n",
    "for i in loadTxt('unsuspended_8_Oct.txt'):\n",
    "    restoredUsersList.add(i)"
   ]
  },
  {
   "cell_type": "code",
   "execution_count": null,
   "id": "plastic-reynolds",
   "metadata": {},
   "outputs": [],
   "source": [
    "# Suspended_Data= {'user.id_str': [], 'typeOfUser': [], 'favorite_count': [], 'retweet_count': []}\n",
    "Suspended_Data= {'user.id_str': [], 'typeOfUser': [], 'favourites_count': [], 'created_at': [], 'friends_count': [], 'followers_count': [], 'statuses_count': []}\n",
    "# Restored_Data= {'user.id_str': [], 'typeOfUser': [], 'favorite_count': [], 'retweet_count': []}\n",
    "Restored_Data= {'user.id_str': [], 'typeOfUser': [], 'favourites_count': [], 'created_at': [], 'friends_count': [], 'followers_count': [], 'statuses_count': []}\n",
    "with open(f'../data/all_tweets_suspended_jan3_2021.pickle', 'rb') as f:\n",
    "    try:\n",
    "        while True:\n",
    "            temp= pkl.load(f)\n",
    "            for i in tqdm.tqdm(temp):\n",
    "                user_id= i['user']['id_str']\n",
    "                if user_id in restoredUsersList:\n",
    "                    Restored_Data['user.id_str'].append(i['user']['id_str'])\n",
    "                    Restored_Data['typeOfUser'].append('Restored')\n",
    "#                 Restored_Data['favorite_count'].append(i['favorite_count'])\n",
    "#                 Restored_Data['retweet_count'].append(i['retweet_count'])\n",
    "                    Restored_Data['created_at'].append(i['created_at'])\n",
    "                    Restored_Data['favourites_count'].append(i['user']['favourites_count'])\n",
    "                    Restored_Data['friends_count'].append(i['user']['friends_count'])\n",
    "                    Restored_Data['followers_count'].append(i['user']['followers_count'])\n",
    "                    Restored_Data['statuses_count'].append(i['user']['statuses_count'])\n",
    "                else:\n",
    "                    Suspended_Data['user.id_str'].append(i['user']['id_str'])\n",
    "                    Suspended_Data['typeOfUser'].append('Suspended')\n",
    "#                 Suspended_Data['favorite_count'].append(i['favorite_count'])\n",
    "#                 Suspended_Data['retweet_count'].append(i['retweet_count'])\n",
    "                    Suspended_Data['created_at'].append(i['created_at'])\n",
    "                    Suspended_Data['favourites_count'].append(i['user']['favourites_count'])\n",
    "                    Suspended_Data['friends_count'].append(i['user']['friends_count'])\n",
    "                    Suspended_Data['followers_count'].append(i['user']['followers_count'])\n",
    "                    Suspended_Data['statuses_count'].append(i['user']['statuses_count'])\n",
    "    except EOFError:\n",
    "        pass"
   ]
  },
  {
   "cell_type": "code",
   "execution_count": null,
   "id": "right-papua",
   "metadata": {},
   "outputs": [],
   "source": [
    "Normal_Data= pd.DataFrame.from_dict(Normal_Data)\n",
    "Suspended_Data= pd.DataFrame.from_dict(Suspended_Data)\n",
    "Restored_Data= pd.DataFrame.from_dict(Restored_Data)"
   ]
  },
  {
   "cell_type": "code",
   "execution_count": null,
   "id": "bright-batch",
   "metadata": {},
   "outputs": [],
   "source": [
    "# Mann Whitney Test\n",
    "\n",
    "# Retweet Count\n",
    "category= 'Retweet Count (Tweet Level)'\n",
    "attr= 'retweet_count'\n",
    "greater= 0\n",
    "\n",
    "# Suspended, Regular\n",
    "U, alpha= mannwhitneyu(\n",
    "    np.array(list(Normal_Data[Normal_Data[attr]>=greater].sort_values(by= attr)[attr])),\n",
    "    np.array(list(Suspended_Data[Suspended_Data[attr]>=greater].sort_values(by= attr)[attr])),\n",
    "    alternative= 'two-sided'\n",
    ")\n",
    "print(category, 'Normal vs Suspended, U:', U, ', Alpha:', alpha)\n",
    "\n",
    "# Suspended, Restored\n",
    "U, alpha= mannwhitneyu(\n",
    "    np.array(list(Suspended_Data[Suspended_Data[attr]>=greater].sort_values(by= attr)[attr])),\n",
    "    np.array(list(Restored_Data[Restored_Data[attr]>=greater].sort_values(by= attr)[attr])),\n",
    "    alternative= 'two-sided'\n",
    ")\n",
    "print(category, 'Suspended vs Restored, U:', U, ', Alpha:', alpha)\n",
    "\n",
    "# Restored, Regular\n",
    "U, alpha= mannwhitneyu(\n",
    "    np.array(list(Normal_Data[Normal_Data[attr]>=greater].sort_values(by= attr)[attr])),\n",
    "    np.array(list(Restored_Data[Restored_Data[attr]>=greater].sort_values(by= attr)[attr])),\n",
    "    alternative= 'two-sided'\n",
    ")\n",
    "print(category, 'Regular vs Restored, U:', U, ', Alpha:', alpha)\n",
    "\n",
    "\n",
    "# Retweet Count\n",
    "category= 'Favourite Count (Tweet Level)'\n",
    "attr= 'favorite_count'\n",
    "\n",
    "# Suspended, Regular\n",
    "U, alpha= mannwhitneyu(\n",
    "    np.array(list(Normal_Data[Normal_Data[attr]>=greater].sort_values(by= attr)[attr])),\n",
    "    np.array(list(Suspended_Data[Suspended_Data[attr]>=greater].sort_values(by= attr)[attr])),\n",
    "    alternative= 'two-sided'\n",
    ")\n",
    "print(category, 'Normal vs Suspended, U:', U, ', Alpha:', alpha)\n",
    "\n",
    "# Suspended, Restored\n",
    "U, alpha= mannwhitneyu(\n",
    "    np.array(list(Suspended_Data[Suspended_Data[attr]>=greater].sort_values(by= attr)[attr])),\n",
    "    np.array(list(Restored_Data[Restored_Data[attr]>=greater].sort_values(by= attr)[attr])),\n",
    "    alternative= 'two-sided'\n",
    ")\n",
    "print(category, 'Suspended vs Restored, U:', U, ', Alpha:', alpha)\n",
    "\n",
    "# Restored, Regular\n",
    "U, alpha= mannwhitneyu(\n",
    "    np.array(list(Normal_Data[Normal_Data[attr]>=greater].sort_values(by= attr)[attr])),\n",
    "    np.array(list(Restored_Data[Restored_Data[attr]>=greater].sort_values(by= attr)[attr])),\n",
    "    alternative= 'two-sided'\n",
    ")\n",
    "print(category, 'Regular vs Restored, U:', U, ', Alpha:', alpha)"
   ]
  },
  {
   "cell_type": "code",
   "execution_count": null,
   "id": "alive-maple",
   "metadata": {},
   "outputs": [],
   "source": [
    "greater= 0\n",
    "attrs= ['favourites_count', 'friends_count', 'followers_count', 'statuses_count']\n",
    "\n",
    "for attr in attrs:\n",
    "    \n",
    "    category= f'{attr} (User Level)'\n",
    "    \n",
    "    # define users\n",
    "    regular_user_level= getUsersLatest(Normal_Data, attr)\n",
    "    suspended_user_level= getUsersLatest(Suspended_Data, attr)\n",
    "    restored_user_level= getUsersLatest(Restored_Data, attr)\n",
    "    \n",
    "    # Suspended, Regular\n",
    "    U, alpha= mannwhitneyu(\n",
    "        np.array(list(regular_user_level[regular_user_level[attr]>=greater].sort_values(by= attr)[attr])),\n",
    "        np.array(list(suspended_user_level[suspended_user_level[attr]>=greater].sort_values(by= attr)[attr])),\n",
    "        alternative= 'two-sided'\n",
    "    )\n",
    "    print(category, 'Normal vs Suspended, U:', U, ', Alpha:', alpha)\n",
    "\n",
    "    # Suspended, Restored\n",
    "    U, alpha= mannwhitneyu(\n",
    "        np.array(list(suspended_user_level[suspended_user_level[attr]>=greater].sort_values(by= attr)[attr])),\n",
    "        np.array(list(restored_user_level[restored_user_level[attr]>=greater].sort_values(by= attr)[attr])),\n",
    "        alternative= 'two-sided'\n",
    "    )\n",
    "    print(category, 'Suspended vs Restored, U:', U, ', Alpha:', alpha)\n",
    "\n",
    "    # Restored, Regular\n",
    "    U, alpha= mannwhitneyu(\n",
    "        np.array(list(regular_user_level[regular_user_level[attr]>=greater].sort_values(by= attr)[attr])),\n",
    "        np.array(list(restored_user_level[restored_user_level[attr]>=greater].sort_values(by= attr)[attr])),\n",
    "        alternative= 'two-sided'\n",
    "    )\n",
    "    print(category, 'Regular vs Restored, U:', U, ', Alpha:', alpha)"
   ]
  },
  {
   "cell_type": "code",
   "execution_count": null,
   "id": "informational-carpet",
   "metadata": {},
   "outputs": [],
   "source": [
    "temp= pd.concat([Normal_Data, Suspended_Data, Restored_Data], ignore_index= True)\n",
    "attr= 'retweet_count'\n",
    "# temp= pd.concat([getUsersLatest(restoredBefore, attr), getUsersLatest(restoredAfter, attr)], ignore_index= True)\n",
    "temp_cdf= sns.ecdfplot(\n",
    "    data= temp[temp[attr]>=10].sort_values(by= attr),\n",
    "    x= attr,\n",
    "    hue= 'typeOfUser',\n",
    "    stat= 'proportion'\n",
    ")"
   ]
  },
  {
   "cell_type": "code",
   "execution_count": null,
   "id": "cutting-pregnancy",
   "metadata": {},
   "outputs": [],
   "source": [
    "temp= temp_cdf.get_lines()[0].get_data()\n",
    "x_temp, y_temp= list(temp[0]), list(temp[1])\n",
    "plt.plot(x_temp, y_temp, label= \"Restored\", c= \"#c3c3c3\")\n",
    "\n",
    "temp= temp_cdf.get_lines()[1].get_data()\n",
    "x_temp, y_temp= list(temp[0]), list(temp[1])\n",
    "plt.plot(x_temp, y_temp, label= \"Regular\", c= \"#929292\")\n",
    "\n",
    "temp= temp_cdf.get_lines()[2].get_data()\n",
    "x_temp, y_temp= list(temp[0]), list(temp[1])\n",
    "plt.plot(x_temp, y_temp, label= \"Suspended\", c= \"#000000\")\n",
    "\n",
    "plt.ylim([0, 1])\n",
    "plt.xscale('log', base= 10)\n",
    "plt.xlabel('Retweet Count')\n",
    "plt.ylabel('Proportion')\n",
    "plt.legend()\n",
    "plt.show()"
   ]
  },
  {
   "cell_type": "code",
   "execution_count": null,
   "id": "operational-increase",
   "metadata": {},
   "outputs": [],
   "source": [
    "temp= pd.concat([Normal_Data, Suspended_Data, Restored_Data], ignore_index= True)\n",
    "attr= 'favorite_count'\n",
    "# temp= pd.concat([getUsersLatest(restoredBefore, attr), getUsersLatest(restoredAfter, attr)], ignore_index= True)\n",
    "temp_cdf= sns.ecdfplot(\n",
    "    data= temp[temp[attr]>=10].sort_values(by= attr),\n",
    "    x= attr,\n",
    "    hue= 'typeOfUser',\n",
    "    stat= 'proportion'\n",
    ")"
   ]
  },
  {
   "cell_type": "code",
   "execution_count": null,
   "id": "exterior-cleaning",
   "metadata": {},
   "outputs": [],
   "source": [
    "temp= temp_cdf.get_lines()[0].get_data()\n",
    "x_temp, y_temp= list(temp[0]), list(temp[1])\n",
    "plt.plot(x_temp, y_temp, label= \"Restored\", c= \"#c3c3c3\")\n",
    "\n",
    "temp= temp_cdf.get_lines()[1].get_data()\n",
    "x_temp, y_temp= list(temp[0]), list(temp[1])\n",
    "plt.plot(x_temp, y_temp, label= \"Regular\", c= \"#929292\")\n",
    "\n",
    "temp= temp_cdf.get_lines()[2].get_data()\n",
    "x_temp, y_temp= list(temp[0]), list(temp[1])\n",
    "plt.plot(x_temp, y_temp, label= \"Suspended\", c= \"#000000\")\n",
    "\n",
    "plt.ylim([0, 1])\n",
    "plt.xscale('log', base= 10)\n",
    "plt.xlabel('Favorite Count')\n",
    "plt.ylabel('Proportion')\n",
    "plt.legend()\n",
    "plt.show()"
   ]
  }
 ],
 "metadata": {
  "kernelspec": {
   "display_name": "Python 3",
   "language": "python",
   "name": "python3"
  },
  "language_info": {
   "codemirror_mode": {
    "name": "ipython",
    "version": 3
   },
   "file_extension": ".py",
   "mimetype": "text/x-python",
   "name": "python",
   "nbconvert_exporter": "python",
   "pygments_lexer": "ipython3",
   "version": "3.7.6"
  }
 },
 "nbformat": 4,
 "nbformat_minor": 5
}
